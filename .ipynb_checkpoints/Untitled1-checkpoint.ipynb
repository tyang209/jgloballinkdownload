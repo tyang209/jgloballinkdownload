{
 "metadata": {
  "name": ""
 },
 "nbformat": 3,
 "nbformat_minor": 0,
 "worksheets": [
  {
   "cells": [
    {
     "cell_type": "code",
     "collapsed": false,
     "input": [
      "import urllib2\n",
      "from selenium import webdriver\n",
      "from selenium.webdriver.common.keys import Keys\n",
      "from bs4 import BeautifulSoup\n",
      "from selenium.webdriver.common.by import By\n",
      "from selenium.webdriver.support.ui import WebDriverWait\n",
      "from selenium.webdriver.support import expected_conditions as EC\n",
      "from selenium.webdriver.common.action_chains import ActionChains"
     ],
     "language": "python",
     "metadata": {},
     "outputs": [],
     "prompt_number": 8
    },
    {
     "cell_type": "code",
     "collapsed": false,
     "input": [
      "def loadLinks():\n",
      "    linkArray=[]\n",
      "    with open('profileLinksCollection.txt','rb') as f:\n",
      "        for line in f:\n",
      "            linkArray.append(line)\n",
      "    return linkArray\n",
      "\n",
      "links = loadLinks()\n",
      "linkDict = {}\n",
      "for line in links:\n",
      "    driver = webdriver.Chrome(\"phantomjs.exe\")\n",
      "    driver.set_window_size(1920, 1000)\n",
      "    driver.get(line)\n",
      "    try:\n",
      "        print \"looking for content\"\n",
      "        def find(driver):\n",
      "            e = driver.find_element_by_xpath(\"//span[contains(@id,'JD_ENG')]\")\n",
      "            if (e.value_of_css_property('display')=='block'):\n",
      "                return False\n",
      "            return e\n",
      "        e = WebDriverWait(driver,600).until(find)\n",
      "    finally: print \"done loading\" \n",
      "    uniqueID = (line.split('='))[1][:-2] #get id \n",
      "    englishSPAN = driver.find_element_by_xpath(\"//span[contains(@id,'JD_ENG')]\")\n",
      "    soup = BeautifulSoup(englishSPAN.get_attribute('innerHTML'))\n",
      "    link = soup.find('a')['href']\n",
      "    \n",
      "    linkDict[uniqueID] =link\n",
      "    driver.close()\n",
      "    \n",
      "print linkDict\n",
      "        "
     ],
     "language": "python",
     "metadata": {},
     "outputs": [
      {
       "output_type": "stream",
       "stream": "stdout",
       "text": [
        "looking for content\n",
        "done loading"
       ]
      },
      {
       "output_type": "stream",
       "stream": "stdout",
       "text": [
        "\n",
        "looking for content"
       ]
      },
      {
       "output_type": "stream",
       "stream": "stdout",
       "text": [
        "\n",
        "done loading"
       ]
      },
      {
       "output_type": "stream",
       "stream": "stdout",
       "text": [
        "\n",
        "{'201101045851865411': 'http://researchmap.jp/read0155942/?lang=english', '200901044975839503': 'http://researchmap.jp/read0015606/?lang=english'}"
       ]
      },
      {
       "output_type": "stream",
       "stream": "stdout",
       "text": [
        "\n"
       ]
      }
     ],
     "prompt_number": 19
    },
    {
     "cell_type": "code",
     "collapsed": false,
     "input": [
      "# for line in links:\n",
      "print (line.split('='))[1][:-2] #get id "
     ],
     "language": "python",
     "metadata": {},
     "outputs": [
      {
       "output_type": "stream",
       "stream": "stdout",
       "text": [
        "200901027338990336\n"
       ]
      }
     ],
     "prompt_number": 15
    }
   ],
   "metadata": {}
  }
 ]
}