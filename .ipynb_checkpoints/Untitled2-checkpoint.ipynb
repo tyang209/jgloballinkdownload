{
 "metadata": {
  "name": ""
 },
 "nbformat": 3,
 "nbformat_minor": 0,
 "worksheets": [
  {
   "cells": [
    {
     "cell_type": "code",
     "collapsed": false,
     "input": [
      "from bs4 import BeautifulSoup\n",
      "import re\n"
     ],
     "language": "python",
     "metadata": {},
     "outputs": [],
     "prompt_number": 100
    },
    {
     "cell_type": "code",
     "collapsed": false,
     "input": [
      "soup = BeautifulSoup(\"\"\"<td id=\"JD_EP\"><div class=\"withIconCol\"><p class=\"imgL\"><img width=\"40\" height=\"16\" alt=\"\u7279\u8a31\" src=\"/common/images/icon/icon_patent.png\"></p><p class=\"txtR light\"><a class=\"fwB\" href=\"/detail.php?JGLOBAL_ID=201403086216499740&amp;q=%E4%BA%AC%E9%83%BD%E5%A4%A7%E5%AD%A6&amp;t=1\">\u5909\u901f\u6a5f</a></p></div><p class=\"light mB10\"><span class=\"fwB\">\u51fa\u9858\u4eba/\u7279\u8a31\u6a29\u8005\uff1a</span>\u3044\u3059\u309e\u81ea\u52d5\u8eca\u682a\u5f0f\u4f1a\u793e\u3001\u56fd\u7acb\u5927\u5b66\u6cd5\u4eba\u4eac\u90fd\u5927\u5b66<br><span class=\"fwB\">\u767a\u660e\u8005\uff1a</span>\u53e4\u8cc0  \u82f1\u9686\u3001\u5c0f\u68ee  \u96c5\u6674<br><span class=\"fwB\">\u516c\u5831\u7a2e\u5225\uff1a</span>\u7279\u8a31\u516c\u5831<span class=\"mR10\">&nbsp;</span><span class=\"fwB\">\u51fa\u9858\u756a\u53f7\uff1a</span>\u7279\u98582009-027239<span class=\"mR10\">&nbsp;</span><span class=\"fwB\">\u51fa\u9858\u65e5\uff1a</span>2009\u5e7402\u670809\u65e5<br><span class=\"fwB\">\u6982\u8981(\u8acb\u6c42\u98051)\uff1a</span>\u3010\u8acb\u6c42\u98051\u3011  \u56de\u8ee2\u53ef\u80fd\u306b\u652f\u6301\u3055\u308c\u305f\u5165\u529b\u8ef8\u3068\u51fa\u529b\u8ef8\u3068\u306e\u9593\u306b\u305d\u308c\u305e\u308c\u914d\u7f6e\u3055\u308c\u305f\u3001\u5c11\u306a\u304f\u3068\u30822\u7d44\u306e\u6b6f\u8eca\u8981\u7d20\u5bfe\u3067\u3042\u308b\u7b2c1\u306e\u6b6f\u8eca\u8981\u7d20\u5bfe\u53ca\u3073\u7b2c2\u306e\u6b6f\u8eca\u8981\u7d20\u5bfe\u3068\u3001\n",
      "  \u524d\u8a18\u5165\u529b\u8ef8\u3068\u524d\u8a18\u51fa\u529b\u8ef8\u3068\u306e\u9593\u306b\u3001\u5c11\u306a\u304f\u3068\u30822\u30fb\u30fb\u30fb</p><div class=\"withIconCol\"><p class=\"imgL\"><img width=\"40\" height=\"16\" alt=\"\u7279\u8a31\" src=\"/common/images/icon/icon_patent.png\"></p><p class=\"txtR light\"><a class=\"fwB\" href=\"/detail.php?JGLOBAL_ID=201403072483248403&amp;q=%E4%BA%AC%E9%83%BD%E5%A4%A7%E5%AD%A6&amp;t=1\">\u99c6\u52d5\u30e6\u30cb\u30c3\u30c8\u3092\u5099\u3048\u305f\u6a5f\u68b0\u69cb\u9020</a></p></div><p class=\"light mB10\"><span class=\"fwB\">\u51fa\u9858\u4eba/\u7279\u8a31\u6a29\u8005\uff1a</span>\u56fd\u7acb\u5927\u5b66\u6cd5\u4eba\u4eac\u90fd\u5927\u5b66<br><span class=\"fwB\">\u767a\u660e\u8005\uff1a</span>\u5c0f\u68ee  \u96c5\u6674\u3001\u677e\u7530  \u5409\u5e73<br><span class=\"fwB\">\u516c\u5831\u7a2e\u5225\uff1a</span>\u7279\u8a31\u516c\u5831<span class=\"mR10\">&nbsp;</span><span class=\"fwB\">\u51fa\u9858\u756a\u53f7\uff1a</span>\u7279\u98582010-032989<span class=\"mR10\">&nbsp;</span><span class=\"fwB\">\u51fa\u9858\u65e5\uff1a</span>2010\u5e7402\u670817\u65e5<br><span class=\"fwB\">\u6982\u8981(\u8acb\u6c42\u98051)\uff1a</span>\u3010\u8acb\u6c42\u98051\u3011  \u57fa\u790e\u90e8\u6750\u3068\u3001\u524d\u8a18\u57fa\u790e\u90e8\u6750\u306b\u56fa\u5b9a\u3055\u308c\u305f1\u3064\u306e\u6848\u5185\u90e8\u53ca\u3073\u8a72\u6848\u5185\u90e8\u306b\u56fa\u5b9a\u3055\u308c\u305f1\u3064\u306e\u4eee\u60f3\u7dda\u306b\u6cbf\u3063\u3066\u53d7\u52d5\u79fb\u52d5\u304c\u53ef\u80fd\u3067\u3042\u308b\u53ef\u52d5\u90e8\u3092\u542b\u3080\u3001\u5c11\u306a\u304f\u3068\u30821\u3064\u306e\u652f\u6301\u90e8\u6750\u3068\u3092\u6709\u3059\u308b\u79fb\u52d5\u4f53\u3068\u3001\n",
      "  \u524d\u8a18\u57fa\u790e\u30fb\u30fb\u30fb</p><div class=\"withIconCol\"><p class=\"imgL\"><img width=\"40\" height=\"16\" alt=\"\u7279\u8a31\" src=\"/common/images/icon/icon_patent.png\"></p><p class=\"txtR light\"><a class=\"fwB\" href=\"/detail.php?JGLOBAL_ID=201403070721628144&amp;q=%E4%BA%AC%E9%83%BD%E5%A4%A7%E5%AD%A6&amp;t=1\">\u975e\u5186\u5f62\u6b6f\u8eca\u8981\u7d20\u5bfe\u3092\u7528\u3044\u305f\u5909\u901f\u6a5f</a></p></div><p class=\"light mB10\"><span class=\"fwB\">\u51fa\u9858\u4eba/\u7279\u8a31\u6a29\u8005\uff1a</span>\u56fd\u7acb\u5927\u5b66\u6cd5\u4eba\u4eac\u90fd\u5927\u5b66\u3001\u3044\u3059\u309e\u81ea\u52d5\u8eca\u682a\u5f0f\u4f1a\u793e<br><span class=\"fwB\">\u767a\u660e\u8005\uff1a</span>\u5c0f\u68ee  \u96c5\u6674\u3001\u53e4\u8cc0  \u82f1\u9686<br><span class=\"fwB\">\u516c\u5831\u7a2e\u5225\uff1a</span>\u7279\u8a31\u516c\u5831<span class=\"mR10\">&nbsp;</span><span class=\"fwB\">\u51fa\u9858\u756a\u53f7\uff1a</span>\u7279\u98582010-111549<span class=\"mR10\">&nbsp;</span><span class=\"fwB\">\u51fa\u9858\u65e5\uff1a</span>2010\u5e7405\u670813\u65e5<br><span class=\"fwB\">\u6982\u8981(\u8acb\u6c42\u98051)\uff1a</span>\u3010\u8acb\u6c42\u98051\u3011  \u56de\u8ee2\u53ef\u80fd\u306b\u652f\u6301\u3055\u308c\u305f\u7b2c1\u7d44\u306e\u5165\u529b\u90e8\u6750\u53ca\u3073\u51fa\u529b\u90e8\u6750\u3068\u3001\n",
      "  \u524d\u8a18\u7b2c1\u7d44\u306e\u5165\u529b\u90e8\u6750\u3068\u51fa\u529b\u90e8\u6750\u306e\u9593\u306b\u305d\u308c\u305e\u308c\u914d\u7f6e\u3055\u308c\u305f\u3001\u5c11\u306a\u304f\u3068\u30822\u7d44\u306e\u6b6f\u8eca\u8981\u7d20\u5bfe\u3068\u3001\n",
      "  \u524d\u8a18\u7b2c1\u7d44\u306e\u5165\u529b\u90e8\u6750\u3068\u51fa\u529b\u90e8\u6750\u306e\u9593\u30fb\u30fb\u30fb</p><div class=\"withIconCol\"><p class=\"imgL\"><img width=\"40\" height=\"16\" alt=\"\u7279\u8a31\" src=\"/common/images/icon/icon_patent.png\"></p><p class=\"txtR light\"><a class=\"fwB\" href=\"/detail.php?JGLOBAL_ID=201403044637071109&amp;q=%E4%BA%AC%E9%83%BD%E5%A4%A7%E5%AD%A6&amp;t=1\">\u99c6\u52d5\u88c5\u7f6e</a></p></div><p class=\"light mB10\"><span class=\"fwB\">\u51fa\u9858\u4eba/\u7279\u8a31\u6a29\u8005\uff1a</span>\u4e09\u83f1\u96fb\u6a5f\u682a\u5f0f\u4f1a\u793e\u3001\u56fd\u7acb\u5927\u5b66\u6cd5\u4eba\u4eac\u90fd\u5927\u5b66<br><span class=\"fwB\">\u767a\u660e\u8005\uff1a</span>\u5c0f\u68ee  \u96c5\u6674\u3001\u5927\u8cc0  \u8358\u5e73\u3001\u91ce\u7530  \u54f2\u7537\u3001\u5965\u7530  \u6674\u4e45\u3001\u7530\u4e2d  \u5065\u4e00<br><span class=\"fwB\">\u516c\u5831\u7a2e\u5225\uff1a</span>\u7279\u8a31\u516c\u5831<span class=\"mR10\">&nbsp;</span><span class=\"fwB\">\u51fa\u9858\u756a\u53f7\uff1a</span>\u7279\u98582009-259681<span class=\"mR10\">&nbsp;</span><span class=\"fwB\">\u51fa\u9858\u65e5\uff1a</span>2009\u5e7411\u670813\u65e5<br><span class=\"fwB\">\u6982\u8981(\u8acb\u6c42\u98051)\uff1a</span>\u3010\u8acb\u6c42\u98051\u3011(a) 1\u81ea\u7531\u5ea6\u904b\u52d5\u3092\u751f\u6210\u3059\u308b\u7b2c1\u30a2\u30af\u30c1\u30e5\u30a8\u30fc\u30bf\u3068\u3001\n",
      "(b) \u4e0a\u8a18\u7b2c1\u30a2\u30af\u30c1\u30e5\u30a8\u30fc\u30bf\u306e\u99c6\u52d5\u3092\u5236\u5fa1\u3059\u308b\u7b2c1\u30a2\u30af\u30c1\u30e5\u30a8\u30fc\u30bf\u5236\u5fa1\u90e8\u3068\u3001\n",
      "(c) \u4e0a\u8a18\u7b2c1\u30a2\u30af\u30c1\u30e5\u30a8\u30fc\u30bf\u3067\u751f\u6210\u3055\u308c\u308b1\u81ea\u7531\u5ea6\u904b\u52d5\u306b\u57fa\u30fb\u30fb\u30fb</p><div class=\"withIconCol\"><p class=\"imgL\"><img width=\"40\" height=\"16\" alt=\"\u7279\u8a31\" src=\"/common/images/icon/icon_patent.png\"></p><p class=\"txtR light\"><a class=\"fwB\" href=\"/detail.php?JGLOBAL_ID=201403024159857168&amp;q=%E4%BA%AC%E9%83%BD%E5%A4%A7%E5%AD%A6&amp;t=1\">\u975e\u5186\u5f62\u6b6f\u8eca\u5bfe\u3092\u7528\u3044\u305f\u5909\u901f\u6a5f\u306e\u5909\u901f\u65b9\u6cd5</a></p></div><p class=\"light mB10\"><span class=\"fwB\">\u51fa\u9858\u4eba/\u7279\u8a31\u6a29\u8005\uff1a</span>\u56fd\u7acb\u5927\u5b66\u6cd5\u4eba\u4eac\u90fd\u5927\u5b66\u3001\u3044\u3059\u309e\u81ea\u52d5\u8eca\u682a\u5f0f\u4f1a\u793e<br><span class=\"fwB\">\u767a\u660e\u8005\uff1a</span>\u5c0f\u68ee  \u96c5\u6674\u3001\u53e4\u8cc0  \u82f1\u9686<br><span class=\"fwB\">\u516c\u5831\u7a2e\u5225\uff1a</span>\u7279\u8a31\u516c\u5831<span class=\"mR10\">&nbsp;</span><span class=\"fwB\">\u51fa\u9858\u756a\u53f7\uff1a</span>\u7279\u98582010-282040<span class=\"mR10\">&nbsp;</span><span class=\"fwB\">\u51fa\u9858\u65e5\uff1a</span>2010\u5e7412\u670817\u65e5<br><span class=\"fwB\">\u6982\u8981(\u8acb\u6c42\u98051)\uff1a</span>\u3010\u8acb\u6c42\u98051\u3011  \u56de\u8ee2\u53ef\u80fd\u306b\u652f\u6301\u3055\u308c\u305f\u5165\u529b\u90e8\u6750\u3068\u3001\n",
      "  \u56de\u8ee2\u53ef\u80fd\u306b\u652f\u6301\u3055\u308c\u305f\u51fa\u529b\u90e8\u6750\u3068\u3001\n",
      "  \u524d\u8a18\u5165\u529b\u90e8\u6750\u3068\u524d\u8a18\u51fa\u529b\u90e8\u6750\u3068\u306e\u9593\u306b\u305d\u308c\u305e\u308c\u914d\u7f6e\u3055\u308c\u3001\u524d\u8a18\u5165\u529b\u90e8\u6750\u3068\u524d\u8a18\u51fa\u529b\u90e8\u6750\u3068\u306e\u9593\u306b\u9023\u7d50\u3055\u308c\u305f\u3068\u304d\u306e\u6e1b\u901f\u6bd4\u30fb\u30fb\u30fb</p><p class=\"txtAR\"><a href=\"/detail.php?JGLOBAL_ID=200901064753496323&amp;e=EP&amp;q=%E4%BA%AC%E9%83%BD%E5%A4%A7%E5%AD%A6&amp;t=1\"><span style=\"position: relative; display: inline-block;\"><img src=\"/common/images/btn_more_on.png\" alt=\"\u3082\u3063\u3068\u898b\u308b\" style=\"position: absolute; opacity: 0;\"><img width=\"82\" height=\"22\" class=\"ro\" alt=\"\u3082\u3063\u3068\u898b\u308b\" src=\"/common/images/btn_more.png\"></span></a></p></td>\"\"\")"
     ],
     "language": "python",
     "metadata": {},
     "outputs": [],
     "prompt_number": 168
    },
    {
     "cell_type": "code",
     "collapsed": false,
     "input": [
      "patentArray = []\n",
      "for div in soup.findAll('div'):\n",
      "    patent = {}\n",
      "    for p in div.findAll('p'):\n",
      "        if p['class'] in (['light'],['txtR', 'light']):\n",
      "            patent['Title'] = p.text\n",
      "            patent['Link'] = p.find('a')['href']\n",
      "        \n",
      "        elif p['class'] in [['light','mB10']]:\n",
      "            for span in p.findAll('span',{'class':'fwB'}):                \n",
      "                patent['Inventors']=[inventor.strip() for inventor in span.next_sibling.split(',')]\n",
      "    patentArray.append(patent)\n",
      "\n",
      "for index,line in enumerate(patentArray):\n",
      "    for k,v in line.iteritems():\n",
      "        print index,k,v"
     ],
     "language": "python",
     "metadata": {},
     "outputs": [
      {
       "output_type": "stream",
       "stream": "stdout",
       "text": [
        "0 Inventors [u'(\\u3044\\u305a\\u308c\\u3082\\u5206\\u62c5\\u8457\\u4f5c\\u8005)']\n",
        "0 Link /search.php?q=%22%E4%BA%AC%E9%83%BD%E5%A4%A7%E5%AD%A6%20%E3%83%87%E3%82%B8%E3%82%BF%E3%83%AB%E3%82%B3%E3%83%B3%E3%83%86%E3%83%B3%E3%83%84%20(C006%20%20%20Clinical%20Embryology%E3%80%81C007%20%20Movie%3ADevelopment%20of%20the%20Human%20Embryo%E3%80%81C008%20%20%E3%83%92%E3%83%88%E8%83%8E%E5%85%90%E3%83%A2%E3%83%87%E3%83%AB)%22&t=3\n",
        "0 Title \u4eac\u90fd\u5927\u5b66 \u30c7\u30b8\u30bf\u30eb\u30b3\u30f3\u30c6\u30f3\u30c4 (C006   Clinical Embryology\u3001C007  Movie:Development of the Human Embryo\u3001C008  \u30d2\u30c8\u80ce\u5150\u30e2\u30c7\u30eb)\u00a0\n"
       ]
      }
     ],
     "prompt_number": 46
    },
    {
     "cell_type": "code",
     "collapsed": false,
     "input": [
      "translationDict = {u'\\u30da\\u30fc\\u30b8':'Page',\n",
      "                   u'\\u53f7':'Issue',\n",
      "                    u'\\u5dfb':'Volume',\n",
      "                    u'\\u8cc7\\u6599\\u540d':'JournalName',\n",
      "                    u'\\u8457\\u8005':'Authors',\n",
      "                    u'\\u767a\\u884c\\u5e74':'PubYear',\n",
      "\t\t\t\t\tu'\\u90e8\\u7f72':'Department',\n",
      "\t\t\t\t\tu'\\u4f4f\\u6240':'Address',\n",
      "\t\t\t\t\tu'\\u4e8b\\u696d\\u6982\\u8981':'Department_Description',\n",
      "\t\t\t\t\tu'\\u90e8\\u7f72\\u30fb\\u8077\\u540d':'Department_Job_Title',\n",
      "\t\t\t\t\tu'\\u7814\\u7a76\\u8005\\u30ea\\u30be\\u30eb\\u30d0\\u30fc':'Resolver',\n",
      "\t\t\t\t\tu'NDL\\u30b5\\u30fc\\u30c1' : 'NDL',\n",
      "\t\t\t\t\tu'\\u7814\\u7a76\\u8005HP(\\u65e5)':'Personal_Home_Page',\n",
      "\t\t\t\t\tu'\\u66f8\\u7c4d':'Books',\n",
      "\t\t\t\t\tu'\\u767a\\u660e\\u8005':'Inventor',\n",
      "\t\t\t\t\tu'\\u51fa\\u9858\\u4eba/\\u7279\\u8a31\\u6a29\\u8005':'Patentee',\n",
      "\t\t\t\t\tu'\\u516c\\u5831\\u7a2e\\u5225':'Patent_Type',\n",
      "\t\t\t\t\tu'\\u51fa\\u9858\\u756a\\u53f7':'Patent_Number',\n",
      "\t\t\t\t\tu'\\u51fa\\u9858\\u65e5':'Filing_Date'\n",
      "\t\t\t\t\t\t}\t\t"
     ],
     "language": "python",
     "metadata": {},
     "outputs": [],
     "prompt_number": 177
    },
    {
     "cell_type": "code",
     "collapsed": false,
     "input": [
      "grantArray = []\n",
      "if len(soup.findAll('tr'))==0:\n",
      "    array.soup.text\n",
      "for row in soup.findAll('tr'):\n",
      "    grantDict = {}\n",
      "    if len(row.th.text)>0:\n",
      "        years = row.th.text.split(' - ')\n",
      "        if len(years[0])>0:\n",
      "            grantDict['StartYear']=years[0]\n",
      "        if len(years[1])>0:\n",
      "            grantDict['EndYear'] = years[1]\n",
      "    grantDict['Grant']  = row.td.text\n",
      "    grantArray.append(grantDict)\n",
      "\n",
      "for index,line in enumerate(grantArray):\n",
      "    for k,v in line.iteritems():\n",
      "        print index,k,v\n",
      "        "
     ],
     "language": "python",
     "metadata": {},
     "outputs": [
      {
       "output_type": "stream",
       "stream": "stdout",
       "text": [
        "0 EndYear \u73fe\u5728\n",
        "0 StartYear 2014\u5e7404\u6708\n",
        "0 Grant \u6771\u5357\u30a2\u30b8\u30a2\u306e\u793e\u4f1a\u3068\u6587\u5316\u7814\u7a76\u4f1a \u4e16\u8a71\u4eba\n",
        "1 EndYear 2006\u5e74\n",
        "1 StartYear 2006\u5e74\n",
        "1 Grant \u4eac\u90fd\u4eba\u985e\u5b66\u7814\u7a76\u4f1a \u5b66\u751f\u904b\u55b6\u59d4\u54e1\n"
       ]
      }
     ],
     "prompt_number": 91
    },
    {
     "cell_type": "code",
     "collapsed": false,
     "input": [
      "for line in soup.findAll('br'):\n",
      "    print line.previous_sibling"
     ],
     "language": "python",
     "metadata": {},
     "outputs": [
      {
       "output_type": "stream",
       "stream": "stdout",
       "text": [
        "\u5730\u57df\u7814\u7a76(\u535a\u58eb) (\u4eac\u90fd\u5927\u5b66)\n",
        "\u4eba\u9593\u30fb\u74b0\u5883\u5b66(\u4fee\u58eb) (\u4eac\u90fd\u5927\u5b66)\n"
       ]
      }
     ],
     "prompt_number": 84
    },
    {
     "cell_type": "code",
     "collapsed": false,
     "input": [
      "papers = []\n",
      "linkArray=[]\n",
      "jglobal_id_regex = re.compile(r'.*JGLOBAL_ID=(\\d+)')\n",
      "for index,div in enumerate(soup.html.body.td.findAll('div',recursive=False)):\n",
      "\n",
      "    paperDict = {}\n",
      "\n",
      "    link = div.find('a')['href']\n",
      "\n",
      "    if link in linkArray:\n",
      "        continue\n",
      "        \n",
      "    linkArray.append(link)\n",
      "    paperDict['PaperLink'] = link\n",
      "    match = jglobal_id_regex.match(link)\n",
      "\n",
      "    if match:\n",
      "        paperDict['PaperinJGLOBAL'] = 'Yes'\n",
      "        paperDict['JGLOBALID'] = match.group(1)   \n",
      "        \n",
      "    for p in div.findAll('p'):\n",
      "        if p['class'] ==['txtR', 'light']:\n",
      "            paperDict['Title'] = p.text\n",
      "\n",
      "        \n",
      "    for span in div.next_sibling.findAll('span',{'class':'fwB'}):\n",
      "        translatedKey = translationDict[span.text.replace(u'\\uff1a','').strip()]\n",
      "        if translatedKey=='Authors':\n",
      "            paperDict[translatedKey] = [author.strip() for author in span.next_sibling.split(u'\\u3001')]\n",
      "        else:\n",
      "            paperDict[translatedKey]= span.next_sibling.strip()\n",
      "    papers.append(paperDict)\n",
      "    \n",
      "for index,line in enumerate(papers):\n",
      "    for k,v in line.iteritems():\n",
      "        print index,k,v"
     ],
     "language": "python",
     "metadata": {},
     "outputs": [
      {
       "ename": "KeyError",
       "evalue": "u'\\u51fa\\u9858\\u65e5'",
       "output_type": "pyerr",
       "traceback": [
        "\u001b[1;31m---------------------------------------------------------------------------\u001b[0m\n\u001b[1;31mKeyError\u001b[0m                                  Traceback (most recent call last)",
        "\u001b[1;32m<ipython-input-178-195eddfd5b95>\u001b[0m in \u001b[0;36m<module>\u001b[1;34m()\u001b[0m\n\u001b[0;32m     25\u001b[0m \u001b[1;33m\u001b[0m\u001b[0m\n\u001b[0;32m     26\u001b[0m     \u001b[1;32mfor\u001b[0m \u001b[0mspan\u001b[0m \u001b[1;32min\u001b[0m \u001b[0mdiv\u001b[0m\u001b[1;33m.\u001b[0m\u001b[0mnext_sibling\u001b[0m\u001b[1;33m.\u001b[0m\u001b[0mfindAll\u001b[0m\u001b[1;33m(\u001b[0m\u001b[1;34m'span'\u001b[0m\u001b[1;33m,\u001b[0m\u001b[1;33m{\u001b[0m\u001b[1;34m'class'\u001b[0m\u001b[1;33m:\u001b[0m\u001b[1;34m'fwB'\u001b[0m\u001b[1;33m}\u001b[0m\u001b[1;33m)\u001b[0m\u001b[1;33m:\u001b[0m\u001b[1;33m\u001b[0m\u001b[0m\n\u001b[1;32m---> 27\u001b[1;33m         \u001b[0mtranslatedKey\u001b[0m \u001b[1;33m=\u001b[0m \u001b[0mtranslationDict\u001b[0m\u001b[1;33m[\u001b[0m\u001b[0mspan\u001b[0m\u001b[1;33m.\u001b[0m\u001b[0mtext\u001b[0m\u001b[1;33m.\u001b[0m\u001b[0mreplace\u001b[0m\u001b[1;33m(\u001b[0m\u001b[1;34mu'\\uff1a'\u001b[0m\u001b[1;33m,\u001b[0m\u001b[1;34m''\u001b[0m\u001b[1;33m)\u001b[0m\u001b[1;33m.\u001b[0m\u001b[0mstrip\u001b[0m\u001b[1;33m(\u001b[0m\u001b[1;33m)\u001b[0m\u001b[1;33m]\u001b[0m\u001b[1;33m\u001b[0m\u001b[0m\n\u001b[0m\u001b[0;32m     28\u001b[0m         \u001b[1;32mif\u001b[0m \u001b[0mtranslatedKey\u001b[0m\u001b[1;33m==\u001b[0m\u001b[1;34m'Authors'\u001b[0m\u001b[1;33m:\u001b[0m\u001b[1;33m\u001b[0m\u001b[0m\n\u001b[0;32m     29\u001b[0m             \u001b[0mpaperDict\u001b[0m\u001b[1;33m[\u001b[0m\u001b[0mtranslatedKey\u001b[0m\u001b[1;33m]\u001b[0m \u001b[1;33m=\u001b[0m \u001b[1;33m[\u001b[0m\u001b[0mauthor\u001b[0m\u001b[1;33m.\u001b[0m\u001b[0mstrip\u001b[0m\u001b[1;33m(\u001b[0m\u001b[1;33m)\u001b[0m \u001b[1;32mfor\u001b[0m \u001b[0mauthor\u001b[0m \u001b[1;32min\u001b[0m \u001b[0mspan\u001b[0m\u001b[1;33m.\u001b[0m\u001b[0mnext_sibling\u001b[0m\u001b[1;33m.\u001b[0m\u001b[0msplit\u001b[0m\u001b[1;33m(\u001b[0m\u001b[1;34mu'\\u3001'\u001b[0m\u001b[1;33m)\u001b[0m\u001b[1;33m]\u001b[0m\u001b[1;33m\u001b[0m\u001b[0m\n",
        "\u001b[1;31mKeyError\u001b[0m: u'\\u51fa\\u9858\\u65e5'"
       ]
      }
     ],
     "prompt_number": 178
    },
    {
     "cell_type": "code",
     "collapsed": false,
     "input": [
      "print u'\\u51fa\\u9858\\u65e5'"
     ],
     "language": "python",
     "metadata": {},
     "outputs": [
      {
       "output_type": "stream",
       "stream": "stdout",
       "text": [
        "\u51fa\u9858\u65e5\n"
       ]
      }
     ],
     "prompt_number": 179
    }
   ],
   "metadata": {}
  }
 ]
}