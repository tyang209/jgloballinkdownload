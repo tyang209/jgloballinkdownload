{
 "metadata": {
  "name": ""
 },
 "nbformat": 3,
 "nbformat_minor": 0,
 "worksheets": [
  {
   "cells": [
    {
     "cell_type": "code",
     "collapsed": false,
     "input": [
      "import pyodbc\n",
      "import pandas as pd\n",
      "import csv\n"
     ],
     "language": "python",
     "metadata": {},
     "outputs": [],
     "prompt_number": 8
    },
    {
     "cell_type": "code",
     "collapsed": false,
     "input": [
      "cxn = pyodbc.connect('DRIVER={SQL Server};SERVER=BOUDEVSQL1;DATABASE=Staging;Trusted_Connection=yes',encoding='latin1')\n",
      "table_names_sql = \"\"\"\n",
      "Select a.name   from sys.views a\n",
      "inner join sys.schemas b on a.schema_id =b.schema_id \n",
      "where b.name = 'HARVARD'\n",
      "\"\"\"\n",
      "\n",
      "view_names_df = pd.read_sql(table_names_sql,cxn)"
     ],
     "language": "python",
     "metadata": {},
     "outputs": [],
     "prompt_number": 17
    },
    {
     "cell_type": "code",
     "collapsed": false,
     "input": [
      "view_names_df"
     ],
     "language": "python",
     "metadata": {},
     "outputs": [
      {
       "html": [
        "<div style=\"max-height:1000px;max-width:1500px;overflow:auto;\">\n",
        "<table border=\"1\" class=\"dataframe\">\n",
        "  <thead>\n",
        "    <tr style=\"text-align: right;\">\n",
        "      <th></th>\n",
        "      <th>name</th>\n",
        "    </tr>\n",
        "  </thead>\n",
        "  <tbody>\n",
        "    <tr>\n",
        "      <th>0 </th>\n",
        "      <td>               REL_HCP_Location</td>\n",
        "    </tr>\n",
        "    <tr>\n",
        "      <th>1 </th>\n",
        "      <td>               REL_Location_ACO</td>\n",
        "    </tr>\n",
        "    <tr>\n",
        "      <th>2 </th>\n",
        "      <td>                        DIM_ACO</td>\n",
        "    </tr>\n",
        "    <tr>\n",
        "      <th>3 </th>\n",
        "      <td>                   DIM_Location</td>\n",
        "    </tr>\n",
        "    <tr>\n",
        "      <th>4 </th>\n",
        "      <td>                        DIM_HCP</td>\n",
        "    </tr>\n",
        "    <tr>\n",
        "      <th>5 </th>\n",
        "      <td> FACT_HCP_Secondary_Specialties</td>\n",
        "    </tr>\n",
        "    <tr>\n",
        "      <th>6 </th>\n",
        "      <td>                   DIM_Hospital</td>\n",
        "    </tr>\n",
        "    <tr>\n",
        "      <th>7 </th>\n",
        "      <td>             DIM_HospitalSystem</td>\n",
        "    </tr>\n",
        "    <tr>\n",
        "      <th>8 </th>\n",
        "      <td>                    DIM_Company</td>\n",
        "    </tr>\n",
        "    <tr>\n",
        "      <th>9 </th>\n",
        "      <td>               REL_ACO_Hospital</td>\n",
        "    </tr>\n",
        "    <tr>\n",
        "      <th>10</th>\n",
        "      <td>                   REL_ACO_Plan</td>\n",
        "    </tr>\n",
        "    <tr>\n",
        "      <th>11</th>\n",
        "      <td>                   REL_HCP_Plan</td>\n",
        "    </tr>\n",
        "    <tr>\n",
        "      <th>12</th>\n",
        "      <td>               REL_HCP_Hospital</td>\n",
        "    </tr>\n",
        "    <tr>\n",
        "      <th>13</th>\n",
        "      <td>                    REL_ACO_HCP</td>\n",
        "    </tr>\n",
        "    <tr>\n",
        "      <th>14</th>\n",
        "      <td>                FACT_ACOMeasure</td>\n",
        "    </tr>\n",
        "    <tr>\n",
        "      <th>15</th>\n",
        "      <td>                 DIM_ACOMeasure</td>\n",
        "    </tr>\n",
        "    <tr>\n",
        "      <th>16</th>\n",
        "      <td>            FACT_ACODescription</td>\n",
        "    </tr>\n",
        "    <tr>\n",
        "      <th>17</th>\n",
        "      <td>      REL_Hospital_HealthSystem</td>\n",
        "    </tr>\n",
        "  </tbody>\n",
        "</table>\n",
        "</div>"
       ],
       "metadata": {},
       "output_type": "pyout",
       "prompt_number": 18,
       "text": [
        "                              name\n",
        "0                 REL_HCP_Location\n",
        "1                 REL_Location_ACO\n",
        "2                          DIM_ACO\n",
        "3                     DIM_Location\n",
        "4                          DIM_HCP\n",
        "5   FACT_HCP_Secondary_Specialties\n",
        "6                     DIM_Hospital\n",
        "7               DIM_HospitalSystem\n",
        "8                      DIM_Company\n",
        "9                 REL_ACO_Hospital\n",
        "10                    REL_ACO_Plan\n",
        "11                    REL_HCP_Plan\n",
        "12                REL_HCP_Hospital\n",
        "13                     REL_ACO_HCP\n",
        "14                 FACT_ACOMeasure\n",
        "15                  DIM_ACOMeasure\n",
        "16             FACT_ACODescription\n",
        "17       REL_Hospital_HealthSystem"
       ]
      }
     ],
     "prompt_number": 18
    },
    {
     "cell_type": "code",
     "collapsed": false,
     "input": [
      "def replaceApostrophe(x):\n",
      "    if (isinstance(x, (basestring, unicode))) and (x is not None):\n",
      "        if not (isinstance(x,unicode)):\n",
      "            x = x.decode('cp1252')\n",
      "        x = (x.replace(u'\\u2019',\"'\").replace(u'\\u2013','-').replace(u'\\u2014','--')\n",
      "                .replace(u'\\xb7',\"*\").replace(u'\\u201c','\"').replace(u'\\u201d','\"')\n",
      "                .replace(u'\\xad',' ').replace(u'\\u2022',\"*\").replace(u'\\xae',\"\").replace(u'\\xa0',' ')\n",
      "                .replace('\\r',' ').replace('\\n',' ').replace(u'\\xeb','e').replace(u'\\xe9','e')\n",
      "                )\n",
      "        return x.encode('utf-8')\n",
      "\n",
      "    else:\n",
      "        return x\n",
      "\n",
      "sql = \"SELECT * FROM HARVARD.\"\n",
      "file_path = r'C:\\Users\\tyang\\Desktop\\harvard\\\\'\n",
      "# file_path = r'W:\\NEW PRODUCTS\\SAMM\\Client Work\\Harvard\\February Update 2\\\\'\n",
      "\n",
      "for table in view_names_df.name.values:\n",
      "    view_sql= sql+ table\n",
      "    df = pd.read_sql(view_sql,cxn)\n",
      "    cols = df.columns\n",
      "    print table\n",
      "    for col in cols:\n",
      "        if df[col].dtype =='O':\n",
      "\n",
      "            df[col]=df[col].apply(lambda x: replaceApostrophe(x))\n",
      "    \n",
      "    df.to_csv(file_path+table+'.csv',sep='|', index=False,header=True, quoting=csv.QUOTE_ALL,encoding='utf-8')\n",
      "    "
     ],
     "language": "python",
     "metadata": {},
     "outputs": [
      {
       "output_type": "stream",
       "stream": "stdout",
       "text": [
        "REL_HCP_Location\n",
        "REL_Location_ACO"
       ]
      },
      {
       "output_type": "stream",
       "stream": "stdout",
       "text": [
        "\n",
        "DIM_ACO"
       ]
      },
      {
       "output_type": "stream",
       "stream": "stdout",
       "text": [
        "\n",
        "DIM_Location"
       ]
      },
      {
       "output_type": "stream",
       "stream": "stdout",
       "text": [
        "\n",
        "DIM_HCP"
       ]
      },
      {
       "output_type": "stream",
       "stream": "stdout",
       "text": [
        "\n",
        "FACT_HCP_Secondary_Specialties"
       ]
      },
      {
       "output_type": "stream",
       "stream": "stdout",
       "text": [
        "\n",
        "DIM_Hospital"
       ]
      },
      {
       "output_type": "stream",
       "stream": "stdout",
       "text": [
        "\n",
        "DIM_HospitalSystem"
       ]
      },
      {
       "output_type": "stream",
       "stream": "stdout",
       "text": [
        "\n",
        "DIM_Company"
       ]
      },
      {
       "output_type": "stream",
       "stream": "stdout",
       "text": [
        "\n",
        "REL_ACO_Hospital"
       ]
      },
      {
       "output_type": "stream",
       "stream": "stdout",
       "text": [
        "\n",
        "REL_ACO_Plan"
       ]
      },
      {
       "output_type": "stream",
       "stream": "stdout",
       "text": [
        "\n",
        "REL_HCP_Plan"
       ]
      },
      {
       "output_type": "stream",
       "stream": "stdout",
       "text": [
        "\n",
        "REL_HCP_Hospital"
       ]
      },
      {
       "output_type": "stream",
       "stream": "stdout",
       "text": [
        "\n",
        "REL_ACO_HCP"
       ]
      },
      {
       "output_type": "stream",
       "stream": "stdout",
       "text": [
        "\n",
        "FACT_ACOMeasure"
       ]
      },
      {
       "output_type": "stream",
       "stream": "stdout",
       "text": [
        "\n",
        "DIM_ACOMeasure"
       ]
      },
      {
       "output_type": "stream",
       "stream": "stdout",
       "text": [
        "\n",
        "FACT_ACODescription"
       ]
      },
      {
       "output_type": "stream",
       "stream": "stdout",
       "text": [
        "\n",
        "REL_Hospital_HealthSystem"
       ]
      },
      {
       "output_type": "stream",
       "stream": "stdout",
       "text": [
        "\n"
       ]
      }
     ],
     "prompt_number": 21
    }
   ],
   "metadata": {}
  }
 ]
}