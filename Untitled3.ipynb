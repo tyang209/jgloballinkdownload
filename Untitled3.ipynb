{
 "metadata": {
  "name": ""
 },
 "nbformat": 3,
 "nbformat_minor": 0,
 "worksheets": [
  {
   "cells": [
    {
     "cell_type": "code",
     "collapsed": false,
     "input": [
      "import urllib2\n",
      "from selenium import webdriver\n",
      "from selenium.webdriver.common.keys import Keys\n",
      "from bs4 import BeautifulSoup\n",
      "from selenium.webdriver.common.by import By\n",
      "from selenium.webdriver.support.ui import WebDriverWait\n",
      "from selenium.webdriver.support import expected_conditions as EC\n",
      "from selenium.webdriver.common.action_chains import ActionChains\n",
      "from glob import glob\n",
      "\n",
      "import os"
     ],
     "language": "python",
     "metadata": {},
     "outputs": [],
     "prompt_number": 75
    },
    {
     "cell_type": "code",
     "collapsed": false,
     "input": [
      "\n",
      "with open('testcrash.html','rb') as f:\n",
      "    soup=BeautifulSoup(f.read())\n",
      "r = requests.get('http://jglobal.jst.go.jp/search.php#%7B%22keyword%22%3A%22Kyoto%20University%20%22%2C%22synonym%22%3Anull%2C%22category%22%3A1%2C%22order%22%3A%22score%22%2C%22limit%22%3A100%2C%22page%22%3A18%2C%22words%22%3A%5B%5D%7D')"
     ],
     "language": "python",
     "metadata": {},
     "outputs": [],
     "prompt_number": 8
    },
    {
     "cell_type": "code",
     "collapsed": false,
     "input": [
      "def returnIsNotLastPage(pagerElem):\n",
      "    soup = BeautifulSoup(pagerElem.get_attribute('innerHTML'))\n",
      "    pageButtons = soup.find('ul',{'class':'pageNumBtnsHolder'})\n",
      "    if len(pageButtons.findAll('li')) ==0:\n",
      "        return False\n",
      "    elif pageButtons.findAll('li')[-1].find('strong') is not None:\n",
      "        return False\n",
      "    else:\n",
      "        return True"
     ],
     "language": "python",
     "metadata": {},
     "outputs": [],
     "prompt_number": 21
    },
    {
     "cell_type": "code",
     "collapsed": false,
     "input": [
      "soup = BeautifulSoup(r.text)"
     ],
     "language": "python",
     "metadata": {},
     "outputs": [],
     "prompt_number": 9
    },
    {
     "cell_type": "code",
     "collapsed": false,
     "input": [
      "driver = webdriver.Chrome('chromedriver.exe')\n",
      "driver.set_window_size(1920, 1000)\n",
      "driver.get('http://jglobal.jst.go.jp/search.php#%7B%22keyword%22%3A%22Kyoto%20University%20%22%2C%22synonym%22%3Anull%2C%22category%22%3A1%2C%22order%22%3A%22score%22%2C%22limit%22%3A100%2C%22page%22%3A18%2C%22words%22%3A%5B%5D%7D')    "
     ],
     "language": "python",
     "metadata": {},
     "outputs": [],
     "prompt_number": 12
    },
    {
     "cell_type": "code",
     "collapsed": false,
     "input": [
      "table_xpath = \"//table[contains(@class,'type1')]\"\n",
      "table_contents_html = driver.find_element_by_xpath(table_xpath).get_attribute('innerHTML')\n",
      "soup = BeautifulSoup(table_contents_html)"
     ],
     "language": "python",
     "metadata": {},
     "outputs": [],
     "prompt_number": 16
    },
    {
     "cell_type": "code",
     "collapsed": false,
     "input": [
      "pagerElem = driver.find_element_by_xpath(\"//ul[contains(@class,'pager')]\")"
     ],
     "language": "python",
     "metadata": {},
     "outputs": [],
     "prompt_number": 17
    },
    {
     "cell_type": "code",
     "collapsed": false,
     "input": [
      "button_xpath = \"//a[contains(@class,'nextPageBtn')]/img\"\n",
      "nextButton = driver.find_element_by_xpath(button_xpath)\n",
      "nextButton.is_displayed() and returnIsNotLastPage(pagerElem)"
     ],
     "language": "python",
     "metadata": {},
     "outputs": [
      {
       "metadata": {},
       "output_type": "pyout",
       "prompt_number": 22,
       "text": [
        "False"
       ]
      }
     ],
     "prompt_number": 22
    },
    {
     "cell_type": "code",
     "collapsed": false,
     "input": [
      "html =\"\"\"\n",
      "<ul class=\"link wordsHolder\"><li style=\"\"><a href=\"#\"><span class=\"title\">\u4fe1\u5dde\u5927\u5b66</span> (<span class=\"count\">37</span>\u4ef6)</a></li><li style=\"\"><a href=\"#\"><span class=\"title\">\u7fa4\u99ac\u5927\u5b66</span> (<span class=\"count\">37</span>\u4ef6)</a></li><li style=\"\"><a href=\"#\"><span class=\"title\">\u798f\u5ca1\u5927\u5b66</span> (<span class=\"count\">36</span>\u4ef6)</a></li><li style=\"\"><a href=\"#\"><span class=\"title\">\u5948\u826f\u5148\u7aef\u79d1\u5b66\u6280\u8853\u5927\u5b66\u9662\u5927\u5b66</span> (<span class=\"count\">36</span>\u4ef6)</a></li><li style=\"\"><a href=\"#\"><span class=\"title\">\u6b66\u5eab\u5ddd\u5973\u5b50\u5927\u5b66</span> (<span class=\"count\">36</span>\u4ef6)</a></li><li style=\"\"><a href=\"#\"><span class=\"title\">\u6442\u5357\u5927\u5b66</span> (<span class=\"count\">36</span>\u4ef6)</a></li><li style=\"\"><a href=\"#\"><span class=\"title\">\u5927\u962a\u5de5\u696d\u5927\u5b66</span> (<span class=\"count\">34</span>\u4ef6)</a></li><li style=\"\"><a href=\"#\"><span class=\"title\">\u7dcf\u5408\u7814\u7a76\u5927\u5b66\u9662\u5927\u5b66</span> (<span class=\"count\">33</span>\u4ef6)</a></li><li style=\"\"><a href=\"#\"><span class=\"title\">\u77f3\u5ddd\u770c\u7acb\u5927\u5b66</span> (<span class=\"count\">33</span>\u4ef6)</a></li><li style=\"\"><a href=\"#\"><span class=\"title\">\u5ca1\u5c71\u7406\u79d1\u5927\u5b66</span> (<span class=\"count\">32</span>\u4ef6)</a></li><li style=\"\"><a href=\"#\"><span class=\"title\">\u91d1\u6ca2\u5de5\u696d\u5927\u5b66</span> (<span class=\"count\">31</span>\u4ef6)</a></li><li style=\"\"><a href=\"#\"><span class=\"title\">\u4e2d\u90e8\u5927\u5b66</span> (<span class=\"count\">31</span>\u4ef6)</a></li><li style=\"\"><a href=\"#\"><span class=\"title\">\u4e5d\u5dde\u5de5\u696d\u5927\u5b66</span> (<span class=\"count\">30</span>\u4ef6)</a></li><li style=\"\"><a href=\"#\"><span class=\"title\">\u548c\u6b4c\u5c71\u5927\u5b66</span> (<span class=\"count\">29</span>\u4ef6)</a></li><li style=\"\"><a href=\"#\"><span class=\"title\">\u5927\u962a\u7d4c\u6e08\u5927\u5b66</span> (<span class=\"count\">29</span>\u4ef6)</a></li><li style=\"\"><a href=\"#\"><span class=\"title\">\u5c71\u5f62\u5927\u5b66</span> (<span class=\"count\">28</span>\u4ef6)</a></li><li style=\"\"><a href=\"#\"><span class=\"title\">\u798f\u4e95\u770c\u7acb\u5927\u5b66</span> (<span class=\"count\">28</span>\u4ef6)</a></li><li style=\"\"><a href=\"#\"><span class=\"title\">\u540d\u53e4\u5c4b\u5de5\u696d\u5927\u5b66</span> (<span class=\"count\">27</span>\u4ef6)</a></li><li style=\"\"><a href=\"#\"><span class=\"title\">\u798f\u5c71\u5927\u5b66</span> (<span class=\"count\">27</span>\u4ef6)</a></li><li style=\"\"><a href=\"#\"><span class=\"title\">\u72ec\u7acb\u884c\u653f\u6cd5\u4eba\u56fd\u7acb\u74b0\u5883\u7814\u7a76\u6240</span> (<span class=\"count\">26</span>\u4ef6)</a></li></ul>\n",
      "\"\"\"\n",
      "soup = BeautifulSoup(html)"
     ],
     "language": "python",
     "metadata": {},
     "outputs": [],
     "prompt_number": 42
    },
    {
     "cell_type": "code",
     "collapsed": false,
     "input": [
      "\n",
      "for line in soup.findAll('li'):\n",
      "    array.append( line.text )"
     ],
     "language": "python",
     "metadata": {},
     "outputs": [],
     "prompt_number": 43
    },
    {
     "cell_type": "code",
     "collapsed": false,
     "input": [
      "count = 0\n",
      "for line in array:\n",
      "    x= int(line.split('(')[-1].replace(u'\u4ef6)','').replace(',',''))\n",
      "    count += x\n",
      "print count"
     ],
     "language": "python",
     "metadata": {},
     "outputs": [
      {
       "output_type": "stream",
       "stream": "stdout",
       "text": [
        "13884\n"
       ]
      }
     ],
     "prompt_number": 64
    },
    {
     "cell_type": "code",
     "collapsed": false,
     "input": [
      "group_id_lkp = {'university':'CS',\n",
      "                'job':'JT',\n",
      "                'field':'RSB',\n",
      "                'affiliations':'SO',\n",
      "                'regions': 'RG',\n",
      "                'prefectures':'PF'\n",
      "        \n",
      "\n",
      "}\n",
      "baseURL = 'http://jglobal.jst.go.jp/search.php#{\"keyword\":\"\u4eac\u5927\",\"synonym\":null,\"category\":1,\"order\":\"score\",\"limit\":100,\"page\":1,\"words\":[{\"count\":10000,\"title\":\"%s\",\"code\":\"\",\"category\":1,\"groupId\":\"%s\",\"val\":\"%s\"}]}'\n",
      "\n",
      "files= glob('./filters/*.txt')\n",
      "for oneFile in files:\n",
      "    fileType = os.path.basename(oneFile).split('_')[0]\n",
      "    groupId = group_id_lkp[fileType] \n",
      "    with open(oneFile,'rb') as f:\n",
      "        for filter in f.readlines():\n",
      "            key = filter.replace('\\n','').decode('utf-8')\n",
      "            print baseURL.decode('utf-8') % (key,groupId,key)"
     ],
     "language": "python",
     "metadata": {},
     "outputs": [
      {
       "output_type": "stream",
       "stream": "stdout",
       "text": [
        "http://jglobal.jst.go.jp/search.php#{\"keyword\":\"\u4eac\u5927\",\"synonym\":null,\"category\":1,\"order\":\"score\",\"limit\":100,\"page\":1,\"words\":[{\"count\":10000,\"title\":\"\u65e5\u672c\u7269\u7406\u5b66\u4f1a\",\"code\":\"\",\"category\":1,\"groupId\":\"SO\",\"val\":\"\u65e5\u672c\u7269\u7406\u5b66\u4f1a\"}]}\n",
        "http://jglobal.jst.go.jp/search.php#{\"keyword\":\"\u4eac\u5927\",\"synonym\":null,\"category\":1,\"order\":\"score\",\"limit\":100,\"page\":1,\"words\":[{\"count\":10000,\"title\":\"\u65e5\u672c\u5316\u5b66\u4f1a\",\"code\":\"\",\"category\":1,\"groupId\":\"SO\",\"val\":\"\u65e5\u672c\u5316\u5b66\u4f1a\"}]}\n",
        "http://jglobal.jst.go.jp/search.php#{\"keyword\":\"\u4eac\u5927\",\"synonym\":null,\"category\":1,\"order\":\"score\",\"limit\":100,\"page\":1,\"words\":[{\"count\":10000,\"title\":\"\u65e5\u672c\u5206\u5b50\u751f\u7269\u5b66\u4f1a\",\"code\":\"\",\"category\":1,\"groupId\":\"SO\",\"val\":\"\u65e5\u672c\u5206\u5b50\u751f\u7269\u5b66\u4f1a\"}]}\n",
        "http://jglobal.jst.go.jp/search.php#{\"keyword\":\"\u4eac\u5927\",\"synonym\":null,\"category\":1,\"order\":\"score\",\"limit\":100,\"page\":1,\"words\":[{\"count\":10000,\"title\":\"\u65e5\u672c\u751f\u5316\u5b66\u4f1a\",\"code\":\"\",\"category\":1,\"groupId\":\"SO\",\"val\":\"\u65e5\u672c\u751f\u5316\u5b66\u4f1a\"}]}\n",
        "http://jglobal.jst.go.jp/search.php#{\"keyword\":\"\u4eac\u5927\",\"synonym\":null,\"category\":1,\"order\":\"score\",\"limit\":100,\"page\":1,\"words\":[{\"count\":10000,\"title\":\"\u65e5\u672c\u6a5f\u68b0\u5b66\u4f1a\",\"code\":\"\",\"category\":1,\"groupId\":\"SO\",\"val\":\"\u65e5\u672c\u6a5f\u68b0\u5b66\u4f1a\"}]}\n",
        "http://jglobal.jst.go.jp/search.php#{\"keyword\":\"\u4eac\u5927\",\"synonym\":null,\"category\":1,\"order\":\"score\",\"limit\":100,\"page\":1,\"words\":[{\"count\":10000,\"title\":\"\u96fb\u5b50\u60c5\u5831\u901a\u4fe1\u5b66\u4f1a\",\"code\":\"\",\"category\":1,\"groupId\":\"SO\",\"val\":\"\u96fb\u5b50\u60c5\u5831\u901a\u4fe1\u5b66\u4f1a\"}]}\n",
        "http://jglobal.jst.go.jp/search.php#{\"keyword\":\"\u4eac\u5927\",\"synonym\":null,\"category\":1,\"order\":\"score\",\"limit\":100,\"page\":1,\"words\":[{\"count\":10000,\"title\":\"\u60c5\u5831\u51e6\u7406\u5b66\u4f1a\",\"code\":\"\",\"category\":1,\"groupId\":\"SO\",\"val\":\"\u60c5\u5831\u51e6\u7406\u5b66\u4f1a\"}]}\n",
        "http://jglobal.jst.go.jp/search.php#{\"keyword\":\"\u4eac\u5927\",\"synonym\":null,\"category\":1,\"order\":\"score\",\"limit\":100,\"page\":1,\"words\":[{\"count\":10000,\"title\":\"\u5fdc\u7528\u7269\u7406\u5b66\u4f1a\",\"code\":\"\",\"category\":1,\"groupId\":\"SO\",\"val\":\"\u5fdc\u7528\u7269\u7406\u5b66\u4f1a\"}]}\n",
        "http://jglobal.jst.go.jp/search.php#{\"keyword\":\"\u4eac\u5927\",\"synonym\":null,\"category\":1,\"order\":\"score\",\"limit\":100,\"page\":1,\"words\":[{\"count\":10000,\"title\":\"\u65e5\u672c\u5efa\u7bc9\u5b66\u4f1a\",\"code\":\"\",\"category\":1,\"groupId\":\"SO\",\"val\":\"\u65e5\u672c\u5efa\u7bc9\u5b66\u4f1a\"}]}\n",
        "http://jglobal.jst.go.jp/search.php#{\"keyword\":\"\u4eac\u5927\",\"synonym\":null,\"category\":1,\"order\":\"score\",\"limit\":100,\"page\":1,\"words\":[{\"count\":10000,\"title\":\"\u65e5\u672c\u85ac\u5b66\u4f1a\",\"code\":\"\",\"category\":1,\"groupId\":\"SO\",\"val\":\"\u65e5\u672c\u85ac\u5b66\u4f1a\"}]}\n",
        "http://jglobal.jst.go.jp/search.php#{\"keyword\":\"\u4eac\u5927\",\"synonym\":null,\"category\":1,\"order\":\"score\",\"limit\":100,\"page\":1,\"words\":[{\"count\":10000,\"title\":\"\u65e5\u672c\u8fb2\u82b8\u5316\u5b66\u4f1a\",\"code\":\"\",\"category\":1,\"groupId\":\"SO\",\"val\":\"\u65e5\u672c\u8fb2\u82b8\u5316\u5b66\u4f1a\"}]}\n",
        "http://jglobal.jst.go.jp/search.php#{\"keyword\":\"\u4eac\u5927\",\"synonym\":null,\"category\":1,\"order\":\"score\",\"limit\":100,\"page\":1,\"words\":[{\"count\":10000,\"title\":\"\u65e5\u672c\u793e\u4f1a\u5b66\u4f1a\",\"code\":\"\",\"category\":1,\"groupId\":\"SO\",\"val\":\"\u65e5\u672c\u793e\u4f1a\u5b66\u4f1a\"}]}\n",
        "http://jglobal.jst.go.jp/search.php#{\"keyword\":\"\u4eac\u5927\",\"synonym\":null,\"category\":1,\"order\":\"score\",\"limit\":100,\"page\":1,\"words\":[{\"count\":10000,\"title\":\"\u65e5\u672c\u6570\u5b66\u4f1a\",\"code\":\"\",\"category\":1,\"groupId\":\"SO\",\"val\":\"\u65e5\u672c\u6570\u5b66\u4f1a\"}]}\n",
        "http://jglobal.jst.go.jp/search.php#{\"keyword\":\"\u4eac\u5927\",\"synonym\":null,\"category\":1,\"order\":\"score\",\"limit\":100,\"page\":1,\"words\":[{\"count\":10000,\"title\":\"\u65e5\u672c\u5fc3\u7406\u5b66\u4f1a\",\"code\":\"\",\"category\":1,\"groupId\":\"SO\",\"val\":\"\u65e5\u672c\u5fc3\u7406\u5b66\u4f1a\"}]}\n",
        "http://jglobal.jst.go.jp/search.php#{\"keyword\":\"\u4eac\u5927\",\"synonym\":null,\"category\":1,\"order\":\"score\",\"limit\":100,\"page\":1,\"words\":[{\"count\":10000,\"title\":\"\u65e5\u672c\u764c\u5b66\u4f1a\",\"code\":\"\",\"category\":1,\"groupId\":\"SO\",\"val\":\"\u65e5\u672c\u764c\u5b66\u4f1a\"}]}\n",
        "http://jglobal.jst.go.jp/search.php#{\"keyword\":\"\u4eac\u5927\",\"synonym\":null,\"category\":1,\"order\":\"score\",\"limit\":100,\"page\":1,\"words\":[{\"count\":10000,\"title\":\"\u571f\u6728\u5b66\u4f1a\",\"code\":\"\",\"category\":1,\"groupId\":\"SO\",\"val\":\"\u571f\u6728\u5b66\u4f1a\"}]}\n",
        "http://jglobal.jst.go.jp/search.php#{\"keyword\":\"\u4eac\u5927\",\"synonym\":null,\"category\":1,\"order\":\"score\",\"limit\":100,\"page\":1,\"words\":[{\"count\":10000,\"title\":\"\u53f2\u5b66\u4f1a\",\"code\":\"\",\"category\":1,\"groupId\":\"SO\",\"val\":\"\u53f2\u5b66\u4f1a\"}]}\n",
        "http://jglobal.jst.go.jp/search.php#{\"keyword\":\"\u4eac\u5927\",\"synonym\":null,\"category\":1,\"order\":\"score\",\"limit\":100,\"page\":1,\"words\":[{\"count\":10000,\"title\":\"IEEE\",\"code\":\"\",\"category\":1,\"groupId\":\"SO\",\"val\":\"IEEE\"}]}\n",
        "http://jglobal.jst.go.jp/search.php#{\"keyword\":\"\u4eac\u5927\",\"synonym\":null,\"category\":1,\"order\":\"score\",\"limit\":100,\"page\":1,\"words\":[{\"count\":10000,\"title\":\"\u65e5\u672c\u7d4c\u6e08\u5b66\u4f1a\",\"code\":\"\",\"category\":1,\"groupId\":\"SO\",\"val\":\"\u65e5\u672c\u7d4c\u6e08\u5b66\u4f1a\"}]}\n",
        "http://jglobal.jst.go.jp/search.php#{\"keyword\":\"\u4eac\u5927\",\"synonym\":null,\"category\":1,\"order\":\"score\",\"limit\":100,\"page\":1,\"words\":[{\"count\":10000,\"title\":\"\u6b74\u53f2\u5b66\u7814\u7a76\u4f1a\",\"code\":\"\",\"category\":1,\"groupId\":\"SO\",\"val\":\"\u6b74\u53f2\u5b66\u7814\u7a76\u4f1a\"}]}\n",
        "http://jglobal.jst.go.jp/search.php#{\"keyword\":\"\u4eac\u5927\",\"synonym\":null,\"category\":1,\"order\":\"score\",\"limit\":100,\"page\":1,\"words\":[{\"count\":10000,\"title\":\"\u65e5\u672c\u82f1\u6587\u5b66\u4f1a\",\"code\":\"\",\"category\":1,\"groupId\":\"SO\",\"val\":\"\u65e5\u672c\u82f1\u6587\u5b66\u4f1a\"}]}\n",
        "http://jglobal.jst.go.jp/search.php#{\"keyword\":\"\u4eac\u5927\",\"synonym\":null,\"category\":1,\"order\":\"score\",\"limit\":100,\"page\":1,\"words\":[{\"count\":10000,\"title\":\"\u65e5\u672c\u6559\u80b2\u5fc3\u7406\u5b66\u4f1a\",\"code\":\"\",\"category\":1,\"groupId\":\"SO\",\"val\":\"\u65e5\u672c\u6559\u80b2\u5fc3\u7406\u5b66\u4f1a\"}]}\n",
        "http://jglobal.jst.go.jp/search.php#{\"keyword\":\"\u4eac\u5927\",\"synonym\":null,\"category\":1,\"order\":\"score\",\"limit\":100,\"page\":1,\"words\":[{\"count\":10000,\"title\":\"\u65e5\u672c\u5185\u79d1\u5b66\u4f1a\",\"code\":\"\",\"category\":1,\"groupId\":\"SO\",\"val\":\"\u65e5\u672c\u5185\u79d1\u5b66\u4f1a\"}]}\n",
        "http://jglobal.jst.go.jp/search.php#{\"keyword\":\"\u4eac\u5927\",\"synonym\":null,\"category\":1,\"order\":\"score\",\"limit\":100,\"page\":1,\"words\":[{\"count\":10000,\"title\":\"\u65e5\u672c\u6559\u80b2\u5b66\u4f1a\",\"code\":\"\",\"category\":1,\"groupId\":\"SO\",\"val\":\"\u65e5\u672c\u6559\u80b2\u5b66\u4f1a\"}]}\n",
        "http://jglobal.jst.go.jp/search.php#{\"keyword\":\"\u4eac\u5927\",\"synonym\":null,\"category\":1,\"order\":\"score\",\"limit\":100,\"page\":1,\"words\":[{\"count\":10000,\"title\":\"\u65e5\u672c\u516c\u8846\u885b\u751f\u5b66\u4f1a\",\"code\":\"\",\"category\":1,\"groupId\":\"SO\",\"val\":\"\u65e5\u672c\u516c\u8846\u885b\u751f\u5b66\u4f1a\"}]}\n",
        "http://jglobal.jst.go.jp/search.php#{\"keyword\":\"\u4eac\u5927\",\"synonym\":null,\"category\":1,\"order\":\"score\",\"limit\":100,\"page\":1,\"words\":[{\"count\":10000,\"title\":\"\u65e5\u672c\u4f53\u80b2\u5b66\u4f1a\",\"code\":\"\",\"category\":1,\"groupId\":\"SO\",\"val\":\"\u65e5\u672c\u4f53\u80b2\u5b66\u4f1a\"}]}\n",
        "http://jglobal.jst.go.jp/search.php#{\"keyword\":\"\u4eac\u5927\",\"synonym\":null,\"category\":1,\"order\":\"score\",\"limit\":100,\"page\":1,\"words\":[{\"count\":10000,\"title\":\"\u65e5\u672c\u751f\u7269\u7269\u7406\u5b66\u4f1a\",\"code\":\"\",\"category\":1,\"groupId\":\"SO\",\"val\":\"\u65e5\u672c\u751f\u7269\u7269\u7406\u5b66\u4f1a\"}]}\n",
        "http://jglobal.jst.go.jp/search.php#{\"keyword\":\"\u4eac\u5927\",\"synonym\":null,\"category\":1,\"order\":\"score\",\"limit\":100,\"page\":1,\"words\":[{\"count\":10000,\"title\":\"\u96fb\u6c17\u5b66\u4f1a\",\"code\":\"\",\"category\":1,\"groupId\":\"SO\",\"val\":\"\u96fb\u6c17\u5b66\u4f1a\"}]}\n",
        "http://jglobal.jst.go.jp/search.php#{\"keyword\":\"\u4eac\u5927\",\"synonym\":null,\"category\":1,\"order\":\"score\",\"limit\":100,\"page\":1,\"words\":[{\"count\":10000,\"title\":\"\u65e5\u672c\u653f\u6cbb\u5b66\u4f1a\",\"code\":\"\",\"category\":1,\"groupId\":\"SO\",\"val\":\"\u65e5\u672c\u653f\u6cbb\u5b66\u4f1a\"}]}\n",
        "http://jglobal.jst.go.jp/search.php#{\"keyword\":\"\u4eac\u5927\",\"synonym\":null,\"category\":1,\"order\":\"score\",\"limit\":100,\"page\":1,\"words\":[{\"count\":10000,\"title\":\"\u65e5\u672c\u795e\u7d4c\u79d1\u5b66\u5b66\u4f1a\",\"code\":\"\",\"category\":1,\"groupId\":\"SO\",\"val\":\"\u65e5\u672c\u795e\u7d4c\u79d1\u5b66\u5b66\u4f1a\"}]}\n",
        "http://jglobal.jst.go.jp/search.php#{\"keyword\":\"\u4eac\u5927\",\"synonym\":null,\"category\":1,\"order\":\"score\",\"limit\":100,\"page\":1,\"words\":[{\"count\":10000,\"title\":\"\u8a08\u6e2c\u81ea\u52d5\u5236\u5fa1\u5b66\u4f1a\",\"code\":\"\",\"category\":1,\"groupId\":\"SO\",\"val\":\"\u8a08\u6e2c\u81ea\u52d5\u5236\u5fa1\u5b66\u4f1a\"}]}\n",
        "http://jglobal.jst.go.jp/search.php#{\"keyword\":\"\u4eac\u5927\",\"synonym\":null,\"category\":1,\"order\":\"score\",\"limit\":100,\"page\":1,\"words\":[{\"count\":10000,\"title\":\"\u65e5\u672c\u90fd\u5e02\u8a08\u753b\u5b66\u4f1a\",\"code\":\"\",\"category\":1,\"groupId\":\"SO\",\"val\":\"\u65e5\u672c\u90fd\u5e02\u8a08\u753b\u5b66\u4f1a\"}]}\n",
        "http://jglobal.jst.go.jp/search.php#{\"keyword\":\"\u4eac\u5927\",\"synonym\":null,\"category\":1,\"order\":\"score\",\"limit\":100,\"page\":1,\"words\":[{\"count\":10000,\"title\":\"\u65e5\u672c\u56fd\u969b\u653f\u6cbb\u5b66\u4f1a\",\"code\":\"\",\"category\":1,\"groupId\":\"SO\",\"val\":\"\u65e5\u672c\u56fd\u969b\u653f\u6cbb\u5b66\u4f1a\"}]}\n",
        "http://jglobal.jst.go.jp/search.php#{\"keyword\":\"\u4eac\u5927\",\"synonym\":null,\"category\":1,\"order\":\"score\",\"limit\":100,\"page\":1,\"words\":[{\"count\":10000,\"title\":\"\u9ad8\u5206\u5b50\u5b66\u4f1a\",\"code\":\"\",\"category\":1,\"groupId\":\"SO\",\"val\":\"\u9ad8\u5206\u5b50\u5b66\u4f1a\"}]}\n",
        "http://jglobal.jst.go.jp/search.php#{\"keyword\":\"\u4eac\u5927\",\"synonym\":null,\"category\":1,\"order\":\"score\",\"limit\":100,\"page\":1,\"words\":[{\"count\":10000,\"title\":\"\u65e5\u672c\u690d\u7269\u751f\u7406\u5b66\u4f1a\",\"code\":\"\",\"category\":1,\"groupId\":\"SO\",\"val\":\"\u65e5\u672c\u690d\u7269\u751f\u7406\u5b66\u4f1a\"}]}\n",
        "http://jglobal.jst.go.jp/search.php#{\"keyword\":\"\u4eac\u5927\",\"synonym\":null,\"category\":1,\"order\":\"score\",\"limit\":100,\"page\":1,\"words\":[{\"count\":10000,\"title\":\"\u65e5\u672c\u5730\u7406\u5b66\u4f1a\",\"code\":\"\",\"category\":1,\"groupId\":\"SO\",\"val\":\"\u65e5\u672c\u5730\u7406\u5b66\u4f1a\"}]}\n",
        "http://jglobal.jst.go.jp/search.php#{\"keyword\":\"\u4eac\u5927\",\"synonym\":null,\"category\":1,\"order\":\"score\",\"limit\":100,\"page\":1,\"words\":[{\"count\":10000,\"title\":\"\u65e5\u672c\u54f2\u5b66\u4f1a\",\"code\":\"\",\"category\":1,\"groupId\":\"SO\",\"val\":\"\u65e5\u672c\u54f2\u5b66\u4f1a\"}]}\n",
        "http://jglobal.jst.go.jp/search.php#{\"keyword\":\"\u4eac\u5927\",\"synonym\":null,\"category\":1,\"order\":\"score\",\"limit\":100,\"page\":1,\"words\":[{\"count\":10000,\"title\":\"\u6771\u65b9\u5b66\u4f1a\",\"code\":\"\",\"category\":1,\"groupId\":\"SO\",\"val\":\"\u6771\u65b9\u5b66\u4f1a\"}]}\n",
        "http://jglobal.jst.go.jp/search.php#{\"keyword\":\"\u4eac\u5927\",\"synonym\":null,\"category\":1,\"order\":\"score\",\"limit\":100,\"page\":1,\"words\":[{\"count\":10000,\"title\":\"\u65e5\u672c\u52d5\u7269\u5b66\u4f1a\",\"code\":\"\",\"category\":1,\"groupId\":\"SO\",\"val\":\"\u65e5\u672c\u52d5\u7269\u5b66\u4f1a\"}]}\n",
        "http://jglobal.jst.go.jp/search.php#{\"keyword\":\"\u4eac\u5927\",\"synonym\":null,\"category\":1,\"order\":\"score\",\"limit\":100,\"page\":1,\"words\":[{\"count\":10000,\"title\":\"\u65e5\u672c\u751f\u614b\u5b66\u4f1a\",\"code\":\"\",\"category\":1,\"groupId\":\"SO\",\"val\":\"\u65e5\u672c\u751f\u614b\u5b66\u4f1a\"}]}\n",
        "http://jglobal.jst.go.jp/search.php#{\"keyword\":\"\u4eac\u5927\",\"synonym\":null,\"category\":1,\"order\":\"score\",\"limit\":100,\"page\":1,\"words\":[{\"count\":10000,\"title\":\"\u6709\u6a5f\u5408\u6210\u5316\u5b66\u5354\u4f1a\",\"code\":\"\",\"category\":1,\"groupId\":\"SO\",\"val\":\"\u6709\u6a5f\u5408\u6210\u5316\u5b66\u5354\u4f1a\"}]}\n",
        "http://jglobal.jst.go.jp/search.php#{\"keyword\":\"\u4eac\u5927\",\"synonym\":null,\"category\":1,\"order\":\"score\",\"limit\":100,\"page\":1,\"words\":[{\"count\":10000,\"title\":\"\u65e5\u672c\u91d1\u5c5e\u5b66\u4f1a\",\"code\":\"\",\"category\":1,\"groupId\":\"SO\",\"val\":\"\u65e5\u672c\u91d1\u5c5e\u5b66\u4f1a\"}]}\n",
        "http://jglobal.jst.go.jp/search.php#{\"keyword\":\"\u4eac\u5927\",\"synonym\":null,\"category\":1,\"order\":\"score\",\"limit\":100,\"page\":1,\"words\":[{\"count\":10000,\"title\":\"\u65e5\u672c\u6c34\u7523\u5b66\u4f1a\",\"code\":\"\",\"category\":1,\"groupId\":\"SO\",\"val\":\"\u65e5\u672c\u6c34\u7523\u5b66\u4f1a\"}]}\n",
        "http://jglobal.jst.go.jp/search.php#{\"keyword\":\"\u4eac\u5927\",\"synonym\":null,\"category\":1,\"order\":\"score\",\"limit\":100,\"page\":1,\"words\":[{\"count\":10000,\"title\":\"\u65e5\u672c\u822a\u7a7a\u5b87\u5b99\u5b66\u4f1a\",\"code\":\"\",\"category\":1,\"groupId\":\"SO\",\"val\":\"\u65e5\u672c\u822a\u7a7a\u5b87\u5b99\u5b66\u4f1a\"}]}\n",
        "http://jglobal.jst.go.jp/search.php#{\"keyword\":\"\u4eac\u5927\",\"synonym\":null,\"category\":1,\"order\":\"score\",\"limit\":100,\"page\":1,\"words\":[{\"count\":10000,\"title\":\"\u65e5\u672c\u53f2\u7814\u7a76\u4f1a\",\"code\":\"\",\"category\":1,\"groupId\":\"SO\",\"val\":\"\u65e5\u672c\u53f2\u7814\u7a76\u4f1a\"}]}\n",
        "http://jglobal.jst.go.jp/search.php#{\"keyword\":\"\u4eac\u5927\",\"synonym\":null,\"category\":1,\"order\":\"score\",\"limit\":100,\"page\":1,\"words\":[{\"count\":10000,\"title\":\"\u65e5\u672c\u514d\u75ab\u5b66\u4f1a\",\"code\":\"\",\"category\":1,\"groupId\":\"SO\",\"val\":\"\u65e5\u672c\u514d\u75ab\u5b66\u4f1a\"}]}\n",
        "http://jglobal.jst.go.jp/search.php#{\"keyword\":\"\u4eac\u5927\",\"synonym\":null,\"category\":1,\"order\":\"score\",\"limit\":100,\"page\":1,\"words\":[{\"count\":10000,\"title\":\"\u65e5\u672c\u7363\u533b\u5b66\u4f1a\",\"code\":\"\",\"category\":1,\"groupId\":\"SO\",\"val\":\"\u65e5\u672c\u7363\u533b\u5b66\u4f1a\"}]}\n",
        "http://jglobal.jst.go.jp/search.php#{\"keyword\":\"\u4eac\u5927\",\"synonym\":null,\"category\":1,\"order\":\"score\",\"limit\":100,\"page\":1,\"words\":[{\"count\":10000,\"title\":\"\u65e5\u672c\u5929\u6587\u5b66\u4f1a\",\"code\":\"\",\"category\":1,\"groupId\":\"SO\",\"val\":\"\u65e5\u672c\u5929\u6587\u5b66\u4f1a\"}]}\n",
        "http://jglobal.jst.go.jp/search.php#{\"keyword\":\"\u4eac\u5927\",\"synonym\":null,\"category\":1,\"order\":\"score\",\"limit\":100,\"page\":1,\"words\":[{\"count\":10000,\"title\":\"\u4eba\u5de5\u77e5\u80fd\u5b66\u4f1a\",\"code\":\"\",\"category\":1,\"groupId\":\"SO\",\"val\":\"\u4eba\u5de5\u77e5\u80fd\u5b66\u4f1a\"}]}\n",
        "http://jglobal.jst.go.jp/search.php#{\"keyword\":\"\u4eac\u5927\",\"synonym\":null,\"category\":1,\"order\":\"score\",\"limit\":100,\"page\":1,\"words\":[{\"count\":10000,\"title\":\"\u30a2\u30e1\u30ea\u30ab\u5316\u5b66\u4f1a\",\"code\":\"\",\"category\":1,\"groupId\":\"SO\",\"val\":\"\u30a2\u30e1\u30ea\u30ab\u5316\u5b66\u4f1a\"}]}\n",
        "http://jglobal.jst.go.jp/search.php#{\"keyword\":\"\u4eac\u5927\",\"synonym\":null,\"category\":1,\"order\":\"score\",\"limit\":100,\"page\":1,\"words\":[{\"count\":10000,\"title\":\"\u793e\u4f1a\u7d4c\u6e08\u53f2\u5b66\u4f1a\",\"code\":\"\",\"category\":1,\"groupId\":\"SO\",\"val\":\"\u793e\u4f1a\u7d4c\u6e08\u53f2\u5b66\u4f1a\"}]}\n",
        "http://jglobal.jst.go.jp/search.php#{\"keyword\":\"\u4eac\u5927\",\"synonym\":null,\"category\":1,\"order\":\"score\",\"limit\":100,\"page\":1,\"words\":[{\"count\":10000,\"title\":\"\u65e5\u672c\u5fdc\u7528\u6570\u7406\u5b66\u4f1a\",\"code\":\"\",\"category\":1,\"groupId\":\"SO\",\"val\":\"\u65e5\u672c\u5fdc\u7528\u6570\u7406\u5b66\u4f1a\"}]}\n",
        "http://jglobal.jst.go.jp/search.php#{\"keyword\":\"\u4eac\u5927\",\"synonym\":null,\"category\":1,\"order\":\"score\",\"limit\":100,\"page\":1,\"words\":[{\"count\":10000,\"title\":\"\u65e5\u672c\u690d\u7269\u5b66\u4f1a\",\"code\":\"\",\"category\":1,\"groupId\":\"SO\",\"val\":\"\u65e5\u672c\u690d\u7269\u5b66\u4f1a\"}]}\n",
        "http://jglobal.jst.go.jp/search.php#{\"keyword\":\"\u4eac\u5927\",\"synonym\":null,\"category\":1,\"order\":\"score\",\"limit\":100,\"page\":1,\"words\":[{\"count\":10000,\"title\":\"\u65e5\u672c\u4e2d\u56fd\u5b66\u4f1a\",\"code\":\"\",\"category\":1,\"groupId\":\"SO\",\"val\":\"\u65e5\u672c\u4e2d\u56fd\u5b66\u4f1a\"}]}\n",
        "http://jglobal.jst.go.jp/search.php#{\"keyword\":\"\u4eac\u5927\",\"synonym\":null,\"category\":1,\"order\":\"score\",\"limit\":100,\"page\":1,\"words\":[{\"count\":10000,\"title\":\"\u65e5\u672c\u8a00\u8a9e\u5b66\u4f1a\",\"code\":\"\",\"category\":1,\"groupId\":\"SO\",\"val\":\"\u65e5\u672c\u8a00\u8a9e\u5b66\u4f1a\"}]}\n",
        "http://jglobal.jst.go.jp/search.php#{\"keyword\":\"\u4eac\u5927\",\"synonym\":null,\"category\":1,\"order\":\"score\",\"limit\":100,\"page\":1,\"words\":[{\"count\":10000,\"title\":\"\u65e5\u672c\u5b97\u6559\u5b66\u4f1a\",\"code\":\"\",\"category\":1,\"groupId\":\"SO\",\"val\":\"\u65e5\u672c\u5b97\u6559\u5b66\u4f1a\"}]}\n",
        "http://jglobal.jst.go.jp/search.php#{\"keyword\":\"\u4eac\u5927\",\"synonym\":null,\"category\":1,\"order\":\"score\",\"limit\":100,\"page\":1,\"words\":[{\"count\":10000,\"title\":\"\u7cbe\u5bc6\u5de5\u5b66\u4f1a\",\"code\":\"\",\"category\":1,\"groupId\":\"SO\",\"val\":\"\u7cbe\u5bc6\u5de5\u5b66\u4f1a\"}]}\n",
        "http://jglobal.jst.go.jp/search.php#{\"keyword\":\"\u4eac\u5927\",\"synonym\":null,\"category\":1,\"order\":\"score\",\"limit\":100,\"page\":1,\"words\":[{\"count\":10000,\"title\":\"\u65e5\u672c\u6559\u80b2\u793e\u4f1a\u5b66\u4f1a\",\"code\":\"\",\"category\":1,\"groupId\":\"SO\",\"val\":\"\u65e5\u672c\u6559\u80b2\u793e\u4f1a\u5b66\u4f1a\"}]}\n",
        "http://jglobal.jst.go.jp/search.php#{\"keyword\":\"\u4eac\u5927\",\"synonym\":null,\"category\":1,\"order\":\"score\",\"limit\":100,\"page\":1,\"words\":[{\"count\":10000,\"title\":\"\u5316\u5b66\u5de5\u5b66\u4f1a\",\"code\":\"\",\"category\":1,\"groupId\":\"SO\",\"val\":\"\u5316\u5b66\u5de5\u5b66\u4f1a\"}]}\n",
        "http://jglobal.jst.go.jp/search.php#{\"keyword\":\"\u4eac\u5927\",\"synonym\":null,\"category\":1,\"order\":\"score\",\"limit\":100,\"page\":1,\"words\":[{\"count\":10000,\"title\":\"\u65e5\u672c\u30ed\u30dc\u30c3\u30c8\u5b66\u4f1a\",\"code\":\"\",\"category\":1,\"groupId\":\"SO\",\"val\":\"\u65e5\u672c\u30ed\u30dc\u30c3\u30c8\u5b66\u4f1a\"}]}\n",
        "http://jglobal.jst.go.jp/search.php#{\"keyword\":\"\u4eac\u5927\",\"synonym\":null,\"category\":1,\"order\":\"score\",\"limit\":100,\"page\":1,\"words\":[{\"count\":10000,\"title\":\"\u65e5\u672c\u539f\u5b50\u529b\u5b66\u4f1a\",\"code\":\"\",\"category\":1,\"groupId\":\"SO\",\"val\":\"\u65e5\u672c\u539f\u5b50\u529b\u5b66\u4f1a\"}]}\n",
        "http://jglobal.jst.go.jp/search.php#{\"keyword\":\"\u4eac\u5927\",\"synonym\":null,\"category\":1,\"order\":\"score\",\"limit\":100,\"page\":1,\"words\":[{\"count\":10000,\"title\":\"\u65e5\u672c\u6c17\u8c61\u5b66\u4f1a\",\"code\":\"\",\"category\":1,\"groupId\":\"SO\",\"val\":\"\u65e5\u672c\u6c17\u8c61\u5b66\u4f1a\"}]}\n",
        "http://jglobal.jst.go.jp/search.php#{\"keyword\":\"\u4eac\u5927\",\"synonym\":null,\"category\":1,\"order\":\"score\",\"limit\":100,\"page\":1,\"words\":[{\"count\":10000,\"title\":\"\u65e5\u672c\u751f\u7406\u5b66\u4f1a\",\"code\":\"\",\"category\":1,\"groupId\":\"SO\",\"val\":\"\u65e5\u672c\u751f\u7406\u5b66\u4f1a\"}]}\n",
        "http://jglobal.jst.go.jp/search.php#{\"keyword\":\"\u4eac\u5927\",\"synonym\":null,\"category\":1,\"order\":\"score\",\"limit\":100,\"page\":1,\"words\":[{\"count\":10000,\"title\":\"\u65e5\u672c\u5fc3\u7406\u81e8\u5e8a\u5b66\u4f1a\",\"code\":\"\",\"category\":1,\"groupId\":\"SO\",\"val\":\"\u65e5\u672c\u5fc3\u7406\u81e8\u5e8a\u5b66\u4f1a\"}]}\n",
        "http://jglobal.jst.go.jp/search.php#{\"keyword\":\"\u4eac\u5927\",\"synonym\":null,\"category\":1,\"order\":\"score\",\"limit\":100,\"page\":1,\"words\":[{\"count\":10000,\"title\":\"\u65e5\u672c\u5206\u6790\u5316\u5b66\u4f1a\",\"code\":\"\",\"category\":1,\"groupId\":\"SO\",\"val\":\"\u65e5\u672c\u5206\u6790\u5316\u5b66\u4f1a\"}]}\n",
        "http://jglobal.jst.go.jp/search.php#{\"keyword\":\"\u4eac\u5927\",\"synonym\":null,\"category\":1,\"order\":\"score\",\"limit\":100,\"page\":1,\"words\":[{\"count\":10000,\"title\":\"American Geophysical Union\",\"code\":\"\",\"category\":1,\"groupId\":\"SO\",\"val\":\"American Geophysical Union\"}]}\n",
        "http://jglobal.jst.go.jp/search.php#{\"keyword\":\"\u4eac\u5927\",\"synonym\":null,\"category\":1,\"order\":\"score\",\"limit\":100,\"page\":1,\"words\":[{\"count\":10000,\"title\":\"\u65e5\u672c\u5730\u9707\u5b66\u4f1a\",\"code\":\"\",\"category\":1,\"groupId\":\"SO\",\"val\":\"\u65e5\u672c\u5730\u9707\u5b66\u4f1a\"}]}\n",
        "http://jglobal.jst.go.jp/search.php#{\"keyword\":\"\u4eac\u5927\",\"synonym\":null,\"category\":1,\"order\":\"score\",\"limit\":100,\"page\":1,\"words\":[{\"count\":10000,\"title\":\"\u65e5\u672c\u4f53\u529b\u533b\u5b66\u4f1a\",\"code\":\"\",\"category\":1,\"groupId\":\"SO\",\"val\":\"\u65e5\u672c\u4f53\u529b\u533b\u5b66\u4f1a\"}]}\n",
        "http://jglobal.jst.go.jp/search.php#{\"keyword\":\"\u4eac\u5927\",\"synonym\":null,\"category\":1,\"order\":\"score\",\"limit\":100,\"page\":1,\"words\":[{\"count\":10000,\"title\":\"\u65e5\u672c\u6d77\u6d0b\u5b66\u4f1a\",\"code\":\"\",\"category\":1,\"groupId\":\"SO\",\"val\":\"\u65e5\u672c\u6d77\u6d0b\u5b66\u4f1a\"}]}\n",
        "http://jglobal.jst.go.jp/search.php#{\"keyword\":\"\u4eac\u5927\",\"synonym\":null,\"category\":1,\"order\":\"score\",\"limit\":100,\"page\":1,\"words\":[{\"count\":10000,\"title\":\"\u30a2\u30b8\u30a2\u653f\u7d4c\u5b66\u4f1a\",\"code\":\"\",\"category\":1,\"groupId\":\"SO\",\"val\":\"\u30a2\u30b8\u30a2\u653f\u7d4c\u5b66\u4f1a\"}]}\n",
        "http://jglobal.jst.go.jp/search.php#{\"keyword\":\"\u4eac\u5927\",\"synonym\":null,\"category\":1,\"order\":\"score\",\"limit\":100,\"page\":1,\"words\":[{\"count\":10000,\"title\":\"\u65e5\u672c\u30d5\u30e9\u30f3\u30b9\u8a9e\u30d5\u30e9\u30f3\u30b9\u6587\u5b66\u4f1a\",\"code\":\"\",\"category\":1,\"groupId\":\"SO\",\"val\":\"\u65e5\u672c\u30d5\u30e9\u30f3\u30b9\u8a9e\u30d5\u30e9\u30f3\u30b9\u6587\u5b66\u4f1a\"}]}\n",
        "http://jglobal.jst.go.jp/search.php#{\"keyword\":\"\u4eac\u5927\",\"synonym\":null,\"category\":1,\"order\":\"score\",\"limit\":100,\"page\":1,\"words\":[{\"count\":10000,\"title\":\"\u65e5\u672c\u767a\u9054\u5fc3\u7406\u5b66\u4f1a\",\"code\":\"\",\"category\":1,\"groupId\":\"SO\",\"val\":\"\u65e5\u672c\u767a\u9054\u5fc3\u7406\u5b66\u4f1a\"}]}\n",
        "http://jglobal.jst.go.jp/search.php#{\"keyword\":\"\u4eac\u5927\",\"synonym\":null,\"category\":1,\"order\":\"score\",\"limit\":100,\"page\":1,\"words\":[{\"count\":10000,\"title\":\"\u65e5\u672c\u8a8d\u77e5\u79d1\u5b66\u4f1a\",\"code\":\"\",\"category\":1,\"groupId\":\"SO\",\"val\":\"\u65e5\u672c\u8a8d\u77e5\u79d1\u5b66\u4f1a\"}]}\n",
        "http://jglobal.jst.go.jp/search.php#{\"keyword\":\"\u4eac\u5927\",\"synonym\":null,\"category\":1,\"order\":\"score\",\"limit\":100,\"page\":1,\"words\":[{\"count\":10000,\"title\":\"\u65e5\u672c\u72ec\u6587\u5b66\u4f1a\",\"code\":\"\",\"category\":1,\"groupId\":\"SO\",\"val\":\"\u65e5\u672c\u72ec\u6587\u5b66\u4f1a\"}]}\n",
        "http://jglobal.jst.go.jp/search.php#{\"keyword\":\"\u4eac\u5927\",\"synonym\":null,\"category\":1,\"order\":\"score\",\"limit\":100,\"page\":1,\"words\":[{\"count\":10000,\"title\":\"\u65e5\u672c\u7d30\u80de\u751f\u7269\u5b66\u4f1a\",\"code\":\"\",\"category\":1,\"groupId\":\"SO\",\"val\":\"\u65e5\u672c\u7d30\u80de\u751f\u7269\u5b66\u4f1a\"}]}\n",
        "http://jglobal.jst.go.jp/search.php#{\"keyword\":\"\u4eac\u5927\",\"synonym\":null,\"category\":1,\"order\":\"score\",\"limit\":100,\"page\":1,\"words\":[{\"count\":10000,\"title\":\"\u65e5\u672c\u6d41\u4f53\u529b\u5b66\u4f1a\",\"code\":\"\",\"category\":1,\"groupId\":\"SO\",\"val\":\"\u65e5\u672c\u6d41\u4f53\u529b\u5b66\u4f1a\"}]}\n",
        "http://jglobal.jst.go.jp/search.php#{\"keyword\":\"\u4eac\u5927\",\"synonym\":null,\"category\":1,\"order\":\"score\",\"limit\":100,\"page\":1,\"words\":[{\"count\":10000,\"title\":\"\u65e5\u672c\u85ac\u7406\u5b66\u4f1a\",\"code\":\"\",\"category\":1,\"groupId\":\"SO\",\"val\":\"\u65e5\u672c\u85ac\u7406\u5b66\u4f1a\"}]}\n",
        "http://jglobal.jst.go.jp/search.php#{\"keyword\":\"\u4eac\u5927\",\"synonym\":null,\"category\":1,\"order\":\"score\",\"limit\":100,\"page\":1,\"words\":[{\"count\":10000,\"title\":\"\u65e5\u672c\u502b\u7406\u5b66\u4f1a\",\"code\":\"\",\"category\":1,\"groupId\":\"SO\",\"val\":\"\u65e5\u672c\u502b\u7406\u5b66\u4f1a\"}]}\n",
        "http://jglobal.jst.go.jp/search.php#{\"keyword\":\"\u4eac\u5927\",\"synonym\":null,\"category\":1,\"order\":\"score\",\"limit\":100,\"page\":1,\"words\":[{\"count\":10000,\"title\":\"\u65e5\u672c\u5730\u8cea\u5b66\u4f1a\",\"code\":\"\",\"category\":1,\"groupId\":\"SO\",\"val\":\"\u65e5\u672c\u5730\u8cea\u5b66\u4f1a\"}]}\n",
        "http://jglobal.jst.go.jp/search.php#{\"keyword\":\"\u4eac\u5927\",\"synonym\":null,\"category\":1,\"order\":\"score\",\"limit\":100,\"page\":1,\"words\":[{\"count\":10000,\"title\":\"\u95a2\u6771\u793e\u4f1a\u5b66\u4f1a\",\"code\":\"\",\"category\":1,\"groupId\":\"SO\",\"val\":\"\u95a2\u6771\u793e\u4f1a\u5b66\u4f1a\"}]}\n",
        "http://jglobal.jst.go.jp/search.php#{\"keyword\":\"\u4eac\u5927\",\"synonym\":null,\"category\":1,\"order\":\"score\",\"limit\":100,\"page\":1,\"words\":[{\"count\":10000,\"title\":\"ACM\",\"code\":\"\",\"category\":1,\"groupId\":\"SO\",\"val\":\"ACM\"}]}\n",
        "http://jglobal.jst.go.jp/search.php#{\"keyword\":\"\u4eac\u5927\",\"synonym\":null,\"category\":1,\"order\":\"score\",\"limit\":100,\"page\":1,\"words\":[{\"count\":10000,\"title\":\"\u65e5\u672c\u793e\u4f1a\u5fc3\u7406\u5b66\u4f1a\",\"code\":\"\",\"category\":1,\"groupId\":\"SO\",\"val\":\"\u65e5\u672c\u793e\u4f1a\u5fc3\u7406\u5b66\u4f1a\"}]}\n",
        "http://jglobal.jst.go.jp/search.php#{\"keyword\":\"\u4eac\u5927\",\"synonym\":null,\"category\":1,\"order\":\"score\",\"limit\":100,\"page\":1,\"words\":[{\"count\":10000,\"title\":\"\u7d44\u7e54\u5b66\u4f1a\",\"code\":\"\",\"category\":1,\"groupId\":\"SO\",\"val\":\"\u7d44\u7e54\u5b66\u4f1a\"}]}\n",
        "http://jglobal.jst.go.jp/search.php#{\"keyword\":\"\u4eac\u5927\",\"synonym\":null,\"category\":1,\"order\":\"score\",\"limit\":100,\"page\":1,\"words\":[{\"count\":10000,\"title\":\"\u65e5\u672c\u897f\u6d0b\u53f2\u5b66\u4f1a\",\"code\":\"\",\"category\":1,\"groupId\":\"SO\",\"val\":\"\u65e5\u672c\u897f\u6d0b\u53f2\u5b66\u4f1a\"}]}\n",
        "http://jglobal.jst.go.jp/search.php#{\"keyword\":\"\u4eac\u5927\",\"synonym\":null,\"category\":1,\"order\":\"score\",\"limit\":100,\"page\":1,\"words\":[{\"count\":10000,\"title\":\"\u65e5\u672c\u571f\u58cc\u80a5\u6599\u5b66\u4f1a\",\"code\":\"\",\"category\":1,\"groupId\":\"SO\",\"val\":\"\u65e5\u672c\u571f\u58cc\u80a5\u6599\u5b66\u4f1a\"}]}\n",
        "http://jglobal.jst.go.jp/search.php#{\"keyword\":\"\u4eac\u5927\",\"synonym\":null,\"category\":1,\"order\":\"score\",\"limit\":100,\"page\":1,\"words\":[{\"count\":10000,\"title\":\"\u4eba\u6587\u5730\u7406\u5b66\u4f1a\",\"code\":\"\",\"category\":1,\"groupId\":\"SO\",\"val\":\"\u4eba\u6587\u5730\u7406\u5b66\u4f1a\"}]}\n",
        "http://jglobal.jst.go.jp/search.php#{\"keyword\":\"\u4eac\u5927\",\"synonym\":null,\"category\":1,\"order\":\"score\",\"limit\":100,\"page\":1,\"words\":[{\"count\":10000,\"title\":\"\u65e5\u672c\u770b\u8b77\u79d1\u5b66\u5b66\u4f1a\",\"code\":\"\",\"category\":1,\"groupId\":\"SO\",\"val\":\"\u65e5\u672c\u770b\u8b77\u79d1\u5b66\u5b66\u4f1a\"}]}\n",
        "http://jglobal.jst.go.jp/search.php#{\"keyword\":\"\u4eac\u5927\",\"synonym\":null,\"category\":1,\"order\":\"score\",\"limit\":100,\"page\":1,\"words\":[{\"count\":10000,\"title\":\"\u65e5\u672c\u6bd4\u8f03\u6587\u5b66\u4f1a\",\"code\":\"\",\"category\":1,\"groupId\":\"SO\",\"val\":\"\u65e5\u672c\u6bd4\u8f03\u6587\u5b66\u4f1a\"}]}\n",
        "http://jglobal.jst.go.jp/search.php#{\"keyword\":\"\u4eac\u5927\",\"synonym\":null,\"category\":1,\"order\":\"score\",\"limit\":100,\"page\":1,\"words\":[{\"count\":10000,\"title\":\"\u4e2d\u56fd\u793e\u4f1a\u6587\u5316\u5b66\u4f1a\",\"code\":\"\",\"category\":1,\"groupId\":\"SO\",\"val\":\"\u4e2d\u56fd\u793e\u4f1a\u6587\u5316\u5b66\u4f1a\"}]}\n",
        "http://jglobal.jst.go.jp/search.php#{\"keyword\":\"\u4eac\u5927\",\"synonym\":null,\"category\":1,\"order\":\"score\",\"limit\":100,\"page\":1,\"words\":[{\"count\":10000,\"title\":\"\u65e5\u672c\u7d71\u8a08\u5b66\u4f1a\",\"code\":\"\",\"category\":1,\"groupId\":\"SO\",\"val\":\"\u65e5\u672c\u7d71\u8a08\u5b66\u4f1a\"}]}\n",
        "http://jglobal.jst.go.jp/search.php#{\"keyword\":\"\u4eac\u5927\",\"synonym\":null,\"category\":1,\"order\":\"score\",\"limit\":100,\"page\":1,\"words\":[{\"count\":10000,\"title\":\"\u65e5\u672c\u5185\u5206\u6ccc\u5b66\u4f1a\",\"code\":\"\",\"category\":1,\"groupId\":\"SO\",\"val\":\"\u65e5\u672c\u5185\u5206\u6ccc\u5b66\u4f1a\"}]}\n",
        "http://jglobal.jst.go.jp/search.php#{\"keyword\":\"\u4eac\u5927\",\"synonym\":null,\"category\":1,\"order\":\"score\",\"limit\":100,\"page\":1,\"words\":[{\"count\":10000,\"title\":\"\u65e5\u672c\u767a\u751f\u751f\u7269\u5b66\u4f1a\",\"code\":\"\",\"category\":1,\"groupId\":\"SO\",\"val\":\"\u65e5\u672c\u767a\u751f\u751f\u7269\u5b66\u4f1a\"}]}\n",
        "http://jglobal.jst.go.jp/search.php#{\"keyword\":\"\u4eac\u5927\",\"synonym\":null,\"category\":1,\"order\":\"score\",\"limit\":100,\"page\":1,\"words\":[{\"count\":10000,\"title\":\"\u65e5\u672c\u5730\u7403\u5316\u5b66\u4f1a\",\"code\":\"\",\"category\":1,\"groupId\":\"SO\",\"val\":\"\u65e5\u672c\u5730\u7403\u5316\u5b66\u4f1a\"}]}\n",
        "http://jglobal.jst.go.jp/search.php#{\"keyword\":\"\u4eac\u5927\",\"synonym\":null,\"category\":1,\"order\":\"score\",\"limit\":100,\"page\":1,\"words\":[{\"count\":10000,\"title\":\"\u65e5\u672c\u653e\u5c04\u5149\u5b66\u4f1a\",\"code\":\"\",\"category\":1,\"groupId\":\"SO\",\"val\":\"\u65e5\u672c\u653e\u5c04\u5149\u5b66\u4f1a\"}]}\n",
        "http://jglobal.jst.go.jp/search.php#{\"keyword\":\"\u4eac\u5927\",\"synonym\":null,\"category\":1,\"order\":\"score\",\"limit\":100,\"page\":1,\"words\":[{\"count\":10000,\"title\":\"\u65e5\u672c\u97f3\u97ff\u5b66\u4f1a\",\"code\":\"\",\"category\":1,\"groupId\":\"SO\",\"val\":\"\u65e5\u672c\u97f3\u97ff\u5b66\u4f1a\"}]}\n",
        "http://jglobal.jst.go.jp/search.php#{\"keyword\":\"\u4eac\u5927\",\"synonym\":null,\"category\":1,\"order\":\"score\",\"limit\":100,\"page\":1,\"words\":[{\"count\":10000,\"title\":\"\u65e5\u672c\u795e\u7d4c\u79d1\u5b66\u4f1a\",\"code\":\"\",\"category\":1,\"groupId\":\"SO\",\"val\":\"\u65e5\u672c\u795e\u7d4c\u79d1\u5b66\u4f1a\"}]}\n",
        "http://jglobal.jst.go.jp/search.php#{\"keyword\":\"\u4eac\u5927\",\"synonym\":null,\"category\":1,\"order\":\"score\",\"limit\":100,\"page\":1,\"words\":[{\"count\":10000,\"title\":\"\u74b0\u5883\u79d1\u5b66\u4f1a\",\"code\":\"\",\"category\":1,\"groupId\":\"SO\",\"val\":\"\u74b0\u5883\u79d1\u5b66\u4f1a\"}]}\n",
        "http://jglobal.jst.go.jp/search.php#{\"keyword\":\"\u4eac\u5927\",\"synonym\":null,\"category\":1,\"order\":\"score\",\"limit\":100,\"page\":1,\"words\":[{\"count\":10000,\"title\":\"\u65e5\u672c\u89e3\u5256\u5b66\u4f1a\",\"code\":\"\",\"category\":1,\"groupId\":\"SO\",\"val\":\"\u65e5\u672c\u89e3\u5256\u5b66\u4f1a\"}]}\n",
        "http://jglobal.jst.go.jp/search.php#{\"keyword\":\"\u4eac\u5927\",\"synonym\":null,\"category\":1,\"order\":\"score\",\"limit\":100,\"page\":1,\"words\":[{\"count\":10000,\"title\":\"\u5730\u7406\u60c5\u5831\u30b7\u30b9\u30c6\u30e0\u5b66\u4f1a\",\"code\":\"\",\"category\":1,\"groupId\":\"SO\",\"val\":\"\u5730\u7406\u60c5\u5831\u30b7\u30b9\u30c6\u30e0\u5b66\u4f1a\"}]}\n",
        "http://jglobal.jst.go.jp/search.php#{\"keyword\":\"\u4eac\u5927\",\"synonym\":null,\"category\":1,\"order\":\"score\",\"limit\":100,\"page\":1,\"words\":[{\"count\":10000,\"title\":\"\u65e5\u672c\u751f\u7269\u5de5\u5b66\u4f1a\",\"code\":\"\",\"category\":1,\"groupId\":\"SO\",\"val\":\"\u65e5\u672c\u751f\u7269\u5de5\u5b66\u4f1a\"}]}\n"
       ]
      }
     ],
     "prompt_number": 95
    },
    {
     "cell_type": "code",
     "collapsed": false,
     "input": [
      "files"
     ],
     "language": "python",
     "metadata": {},
     "outputs": [
      {
       "metadata": {},
       "output_type": "pyout",
       "prompt_number": 74,
       "text": [
        "['./filters\\\\affiliations_filters.txt',\n",
        " './filters\\\\field_filters.txt',\n",
        " './filters\\\\job_filters.txt',\n",
        " './filters\\\\prefectures_filters.txt',\n",
        " './filters\\\\regions_filters.txt',\n",
        " './filters\\\\university_filters.txt']"
       ]
      }
     ],
     "prompt_number": 74
    }
   ],
   "metadata": {}
  }
 ]
}