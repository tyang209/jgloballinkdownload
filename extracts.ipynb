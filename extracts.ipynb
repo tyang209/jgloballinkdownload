{
 "metadata": {
  "name": ""
 },
 "nbformat": 3,
 "nbformat_minor": 0,
 "worksheets": [
  {
   "cells": [
    {
     "cell_type": "code",
     "collapsed": false,
     "input": [
      "import pyodbc\n",
      "import pandas as pd\n",
      "import csv\n"
     ],
     "language": "python",
     "metadata": {},
     "outputs": [],
     "prompt_number": 1
    },
    {
     "cell_type": "code",
     "collapsed": false,
     "input": [
      "SCHEMA_NAME = 'ZEPHYR'\n",
      "cxn = pyodbc.connect('DRIVER={SQL Server};SERVER=BOUDEVSQL1;DATABASE=Staging;Trusted_Connection=yes',encoding='latin1')\n",
      "table_names_sql = \"\"\"\n",
      "Select a.name   from sys.views a\n",
      "inner join sys.schemas b on a.schema_id =b.schema_id \n",
      "where b.name = '%s'\n",
      "\n",
      "UNION\n",
      "\n",
      "Select a.name   from sys.tables a\n",
      "inner join sys.schemas b on a.schema_id =b.schema_id \n",
      "where b.name = '%s'\n",
      "\"\"\"% (SCHEMA_NAME,SCHEMA_NAME)\n",
      "\n",
      "\n",
      "view_names_df = pd.read_sql(table_names_sql,cxn)"
     ],
     "language": "python",
     "metadata": {},
     "outputs": [],
     "prompt_number": 2
    },
    {
     "cell_type": "code",
     "collapsed": false,
     "input": [
      "view_names_df"
     ],
     "language": "python",
     "metadata": {},
     "outputs": [
      {
       "html": [
        "<div style=\"max-height:1000px;max-width:1500px;overflow:auto;\">\n",
        "<table border=\"1\" class=\"dataframe\">\n",
        "  <thead>\n",
        "    <tr style=\"text-align: right;\">\n",
        "      <th></th>\n",
        "      <th>name</th>\n",
        "    </tr>\n",
        "  </thead>\n",
        "  <tbody>\n",
        "    <tr>\n",
        "      <th>0 </th>\n",
        "      <td>            FACT_Insurance</td>\n",
        "    </tr>\n",
        "    <tr>\n",
        "      <th>1 </th>\n",
        "      <td>                DIM_Metric</td>\n",
        "    </tr>\n",
        "    <tr>\n",
        "      <th>2 </th>\n",
        "      <td>               FACT_Epi_RA</td>\n",
        "    </tr>\n",
        "    <tr>\n",
        "      <th>3 </th>\n",
        "      <td>           FACT_ACOMeasure</td>\n",
        "    </tr>\n",
        "    <tr>\n",
        "      <th>4 </th>\n",
        "      <td>          REL_ACO_Hospital</td>\n",
        "    </tr>\n",
        "    <tr>\n",
        "      <th>5 </th>\n",
        "      <td>       FACT_ACODescription</td>\n",
        "    </tr>\n",
        "    <tr>\n",
        "      <th>6 </th>\n",
        "      <td>                   DIM_ACO</td>\n",
        "    </tr>\n",
        "    <tr>\n",
        "      <th>7 </th>\n",
        "      <td>        DIM_HospitalSystem</td>\n",
        "    </tr>\n",
        "    <tr>\n",
        "      <th>8 </th>\n",
        "      <td>              REL_ACO_Plan</td>\n",
        "    </tr>\n",
        "    <tr>\n",
        "      <th>9 </th>\n",
        "      <td>               DIM_Company</td>\n",
        "    </tr>\n",
        "    <tr>\n",
        "      <th>10</th>\n",
        "      <td>          REL_HCP_Hospital</td>\n",
        "    </tr>\n",
        "    <tr>\n",
        "      <th>11</th>\n",
        "      <td>          REL_Location_ACO</td>\n",
        "    </tr>\n",
        "    <tr>\n",
        "      <th>12</th>\n",
        "      <td>              DIM_Location</td>\n",
        "    </tr>\n",
        "    <tr>\n",
        "      <th>13</th>\n",
        "      <td> REL_Hospital_HealthSystem</td>\n",
        "    </tr>\n",
        "    <tr>\n",
        "      <th>14</th>\n",
        "      <td>                   DIM_HCP</td>\n",
        "    </tr>\n",
        "    <tr>\n",
        "      <th>15</th>\n",
        "      <td>              DIM_Hospital</td>\n",
        "    </tr>\n",
        "    <tr>\n",
        "      <th>16</th>\n",
        "      <td>              REL_HCP_Plan</td>\n",
        "    </tr>\n",
        "    <tr>\n",
        "      <th>17</th>\n",
        "      <td>          REL_HCP_Location</td>\n",
        "    </tr>\n",
        "    <tr>\n",
        "      <th>18</th>\n",
        "      <td>               REL_ACO_HCP</td>\n",
        "    </tr>\n",
        "    <tr>\n",
        "      <th>19</th>\n",
        "      <td>            DIM_ACOMeasure</td>\n",
        "    </tr>\n",
        "  </tbody>\n",
        "</table>\n",
        "</div>"
       ],
       "metadata": {},
       "output_type": "pyout",
       "prompt_number": 3,
       "text": [
        "                         name\n",
        "0              FACT_Insurance\n",
        "1                  DIM_Metric\n",
        "2                 FACT_Epi_RA\n",
        "3             FACT_ACOMeasure\n",
        "4            REL_ACO_Hospital\n",
        "5         FACT_ACODescription\n",
        "6                     DIM_ACO\n",
        "7          DIM_HospitalSystem\n",
        "8                REL_ACO_Plan\n",
        "9                 DIM_Company\n",
        "10           REL_HCP_Hospital\n",
        "11           REL_Location_ACO\n",
        "12               DIM_Location\n",
        "13  REL_Hospital_HealthSystem\n",
        "14                    DIM_HCP\n",
        "15               DIM_Hospital\n",
        "16               REL_HCP_Plan\n",
        "17           REL_HCP_Location\n",
        "18                REL_ACO_HCP\n",
        "19             DIM_ACOMeasure"
       ]
      }
     ],
     "prompt_number": 3
    },
    {
     "cell_type": "code",
     "collapsed": false,
     "input": [
      "def replaceApostrophe(x):\n",
      "    if (isinstance(x, (basestring, unicode))) and (x is not None):\n",
      "        if not (isinstance(x,unicode)):\n",
      "            x = x.decode('cp1252')\n",
      "        x = (x.replace(u'\\u2019',\"'\").replace(u'\\u2013','-').replace(u'\\u2014','--')\n",
      "                .replace(u'\\xb7',\"*\").replace(u'\\u201c','\"').replace(u'\\u201d','\"')\n",
      "                .replace(u'\\xad',' ').replace(u'\\u2022',\"*\").replace(u'\\xae',\"\").replace(u'\\xa0',' ')\n",
      "                .replace('\\r',' ').replace('\\n',' ').replace(u'\\xeb','e').replace(u'\\xe9','e')\n",
      "                )\n",
      "        return x.encode('utf-8')\n",
      "\n",
      "    else:\n",
      "        return x\n",
      "\n",
      "sql = \"SELECT * FROM %s.\" % SCHEMA_NAME\n",
      "file_path = r'C:\\Users\\tyang\\Desktop\\zephyr\\\\'\n",
      "# file_path = r'W:\\NEW PRODUCTS\\SAMM\\Client Work\\Harvard\\February Update 2\\\\'\n",
      "\n",
      "for table in view_names_df.name.values:\n",
      "    view_sql= sql+ table\n",
      "    df = pd.read_sql(view_sql,cxn)\n",
      "    cols = df.columns\n",
      "    print table\n",
      "    for col in cols:\n",
      "        if df[col].dtype =='O':\n",
      "            print 'column ==',col\n",
      "            df[col]=df[col].apply(lambda x: replaceApostrophe(x))\n",
      "    \n",
      "    df.to_csv(file_path+table+'.csv',sep='|', index=False,header=True, quoting=csv.QUOTE_ALL,encoding='utf-8')\n",
      "    "
     ],
     "language": "python",
     "metadata": {},
     "outputs": [
      {
       "output_type": "stream",
       "stream": "stdout",
       "text": [
        "FACT_Insurance\n",
        "column == ZIP\n",
        "DIM_Metric"
       ]
      },
      {
       "output_type": "stream",
       "stream": "stdout",
       "text": [
        "\n",
        "column == MetricDesc\n",
        "FACT_Epi_RA"
       ]
      },
      {
       "output_type": "stream",
       "stream": "stdout",
       "text": [
        "\n",
        "column == ZIP\n",
        "FACT_ACOMeasure"
       ]
      },
      {
       "output_type": "stream",
       "stream": "stdout",
       "text": [
        "\n",
        "column == Date\n",
        "REL_ACO_Hospital"
       ]
      },
      {
       "output_type": "stream",
       "stream": "stdout",
       "text": [
        "\n",
        "FACT_ACODescription"
       ]
      },
      {
       "output_type": "stream",
       "stream": "stdout",
       "text": [
        "\n",
        "column == GeneralDescription\n",
        "DIM_ACO"
       ]
      },
      {
       "output_type": "stream",
       "stream": "stdout",
       "text": [
        "\n",
        "column == Name\n",
        "column == City\n",
        "column == Region\n",
        "column == Type\n",
        "column == Status\n",
        "column == GeneralDescription\n",
        "column == SpecificFeatures\n",
        "column == ACOResults\n",
        "column == NumberOfPatientsDescription\n",
        "column == NumberOfPatientsNotes\n",
        "column == PaymentModel\n",
        "column == PaymentModelNotes\n",
        "column == ManagingOrganization\n",
        "column == EPrescribingVendor\n",
        "column == ElectronicMedicalRecordsVendor\n",
        "column == Driver\n",
        "column == Tier\n",
        "column == Employer\n",
        "column == ClinicalAffiliationWithRetailPharmacy\n",
        "column == RetailPharmacy\n",
        "DIM_HospitalSystem"
       ]
      },
      {
       "output_type": "stream",
       "stream": "stdout",
       "text": [
        "\n",
        "column == Name\n",
        "column == DirectoryCode\n",
        "column == SystemType\n",
        "column == Address\n",
        "column == City\n",
        "column == State\n",
        "column =="
       ]
      },
      {
       "output_type": "stream",
       "stream": "stdout",
       "text": [
        " ZIP\n",
        "column == Phone\n",
        "column == Fax\n",
        "column == URL\n",
        "column == Email\n",
        "REL_ACO_Plan"
       ]
      },
      {
       "output_type": "stream",
       "stream": "stdout",
       "text": [
        "\n",
        "DIM_Company"
       ]
      },
      {
       "output_type": "stream",
       "stream": "stdout",
       "text": [
        "\n",
        "column == CompanyName\n",
        "column == ManagedCareCompanyName\n",
        "column == URL\n",
        "column == Email\n",
        "column == Phone\n",
        "REL_HCP_Hospital"
       ]
      },
      {
       "output_type": "stream",
       "stream": "stdout",
       "text": [
        "\n",
        "REL_Location_ACO"
       ]
      },
      {
       "output_type": "stream",
       "stream": "stdout",
       "text": [
        "\n",
        "DIM_Location"
       ]
      },
      {
       "output_type": "stream",
       "stream": "stdout",
       "text": [
        "\n",
        "column == PracticeName\n",
        "column =="
       ]
      },
      {
       "output_type": "stream",
       "stream": "stdout",
       "text": [
        " PracticeURL\n",
        "column == PracticeNPI\n",
        "column == AcceptingNewPatients\n",
        "column == Address1\n",
        "column =="
       ]
      },
      {
       "output_type": "stream",
       "stream": "stdout",
       "text": [
        " Address2\n",
        "column == Address3\n",
        "column == City\n",
        "column =="
       ]
      },
      {
       "output_type": "stream",
       "stream": "stdout",
       "text": [
        " State\n",
        "column =="
       ]
      },
      {
       "output_type": "stream",
       "stream": "stdout",
       "text": [
        " ZIP\n",
        "column =="
       ]
      },
      {
       "output_type": "stream",
       "stream": "stdout",
       "text": [
        " IsPracticePrimaryLocation\n",
        "column == ContactTitle\n",
        "column == ContactFirstName\n",
        "column =="
       ]
      },
      {
       "output_type": "stream",
       "stream": "stdout",
       "text": [
        " ContactLastName\n",
        "column == Phone\n",
        "column == PhoneExt\n",
        "column == Fax\n",
        "column =="
       ]
      },
      {
       "output_type": "stream",
       "stream": "stdout",
       "text": [
        " Email\n",
        "REL_Hospital_HealthSystem"
       ]
      },
      {
       "output_type": "stream",
       "stream": "stdout",
       "text": [
        "\n",
        "column == Description\n",
        "column == Validation\n",
        "DIM_HCP"
       ]
      },
      {
       "output_type": "stream",
       "stream": "stdout",
       "text": [
        "\n",
        "column == FirstName\n",
        "column =="
       ]
      },
      {
       "output_type": "stream",
       "stream": "stdout",
       "text": [
        " MiddleName\n",
        "column =="
       ]
      },
      {
       "output_type": "stream",
       "stream": "stdout",
       "text": [
        " LastName\n",
        "column =="
       ]
      },
      {
       "output_type": "stream",
       "stream": "stdout",
       "text": [
        " NPI\n",
        "column =="
       ]
      },
      {
       "output_type": "stream",
       "stream": "stdout",
       "text": [
        " UPIN\n",
        "column =="
       ]
      },
      {
       "output_type": "stream",
       "stream": "stdout",
       "text": [
        " Phone\n",
        "column == Email\n",
        "column == Fax\n",
        "column =="
       ]
      },
      {
       "output_type": "stream",
       "stream": "stdout",
       "text": [
        " DegreeAbbr\n",
        "column =="
       ]
      },
      {
       "output_type": "stream",
       "stream": "stdout",
       "text": [
        " PrimarySpecialty\n",
        "column =="
       ]
      },
      {
       "output_type": "stream",
       "stream": "stdout",
       "text": [
        " HCPType\n",
        "DIM_Hospital"
       ]
      },
      {
       "output_type": "stream",
       "stream": "stdout",
       "text": [
        "\n",
        "column == Name\n",
        "column == DirectoryCode\n",
        "column == MedicareProviderNumber\n",
        "column == DunnsNo\n",
        "column == NPI\n",
        "column == Address\n",
        "column == City\n",
        "column == State\n",
        "column == ZIP\n",
        "column == MailAddress\n",
        "column == MailZIP\n",
        "column == Phone\n",
        "column == Fax\n",
        "column == URL\n",
        "column == Email\n",
        "REL_HCP_Plan"
       ]
      },
      {
       "output_type": "stream",
       "stream": "stdout",
       "text": [
        "\n",
        "REL_HCP_Location"
       ]
      },
      {
       "output_type": "stream",
       "stream": "stdout",
       "text": [
        "\n",
        "REL_ACO_HCP"
       ]
      },
      {
       "output_type": "stream",
       "stream": "stdout",
       "text": [
        "\n",
        "column == Affiliation\n",
        "DIM_ACOMeasure"
       ]
      },
      {
       "output_type": "stream",
       "stream": "stdout",
       "text": [
        "\n",
        "column == ShortName\n",
        "column == MeasureName\n",
        "column == Description\n",
        "column == Denominator\n",
        "column == Domain\n"
       ]
      }
     ],
     "prompt_number": 4
    }
   ],
   "metadata": {}
  }
 ]
}