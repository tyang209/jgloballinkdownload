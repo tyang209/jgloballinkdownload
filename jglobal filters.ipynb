{
 "metadata": {
  "name": ""
 },
 "nbformat": 3,
 "nbformat_minor": 0,
 "worksheets": [
  {
   "cells": [
    {
     "cell_type": "code",
     "collapsed": false,
     "input": [
      "from bs4 import BeautifulSoup\n",
      "from Tkinter import Tk\n"
     ],
     "language": "python",
     "metadata": {},
     "outputs": [],
     "prompt_number": 9
    },
    {
     "cell_type": "code",
     "collapsed": false,
     "input": [
      "r = Tk()\n",
      "\n",
      "html = r.clipboard_get()\n",
      "r.destroy()\n",
      "soup=BeautifulSoup(html)\n",
      "for line in soup.findAll('span',{'class':'title'}):\n",
      "    array.append(line.text)"
     ],
     "language": "python",
     "metadata": {},
     "outputs": [],
     "prompt_number": 68
    },
    {
     "cell_type": "code",
     "collapsed": false,
     "input": [
      "len(array)"
     ],
     "language": "python",
     "metadata": {},
     "outputs": [
      {
       "metadata": {},
       "output_type": "pyout",
       "prompt_number": 69,
       "text": [
        "48"
       ]
      }
     ],
     "prompt_number": 69
    },
    {
     "cell_type": "code",
     "collapsed": false,
     "input": [
      "for line in array:\n",
      "    print line\n",
      "\n",
      "filter ='prefectures'\n",
      "with open('./filters/' +filter+ '_filters.txt','wb') as f:\n",
      "    for line in array:\n",
      "        f.write(line.encode('utf-8')+'\\n')"
     ],
     "language": "python",
     "metadata": {},
     "outputs": [
      {
       "output_type": "stream",
       "stream": "stdout",
       "text": [
        "\u6771\u4eac\u90fd\n",
        "\u795e\u5948\u5ddd\u770c\n",
        "\u4eac\u90fd\u5e9c\n",
        "\u8328\u57ce\u770c\n",
        "\u611b\u77e5\u770c\n",
        "\u5343\u8449\u770c\n",
        "\u57fc\u7389\u770c\n",
        "\u5927\u962a\u5e9c\n",
        "\u5317\u6d77\u9053\n",
        "\u5bae\u57ce\u770c\n",
        "\u5175\u5eab\u770c\n",
        "\u798f\u5ca1\u770c\n",
        "\u5e83\u5cf6\u770c\n",
        "\u77f3\u5ddd\u770c\n",
        "\u9759\u5ca1\u770c\n",
        "\u65b0\u6f5f\u770c\n",
        "\u5ca1\u5c71\u770c\n",
        "\u6803\u6728\u770c\n",
        "\u6ecb\u8cc0\u770c\n",
        "\u7fa4\u99ac\u770c\n",
        "\u5948\u826f\u770c\n",
        "\u5c71\u68a8\u770c\n",
        "\u4e09\u91cd\u770c\n",
        "\u5c90\u961c\u770c\n",
        "\u9577\u5d0e\u770c\n",
        "\u718a\u672c\u770c\n",
        "\u798f\u5cf6\u770c\n",
        "\u9e7f\u5150\u5cf6\u770c\n",
        "\u611b\u5a9b\u770c\n",
        "\u5c71\u53e3\u770c\n",
        "\u5ca9\u624b\u770c\n",
        "\u5bcc\u5c71\u770c\n",
        "\u6c96\u7e04\u770c\n",
        "\u9999\u5ddd\u770c\n",
        "\u5c71\u5f62\u770c\n",
        "\u5fb3\u5cf6\u770c\n",
        "\u9752\u68ee\u770c\n",
        "\u9577\u91ce\u770c\n",
        "\u798f\u4e95\u770c\n",
        "\u9ad8\u77e5\u770c\n",
        "\u5927\u5206\u770c\n",
        "\u9ce5\u53d6\u770c\n",
        "\u5bae\u5d0e\u770c\n",
        "\u548c\u6b4c\u5c71\u770c\n",
        "\u5cf6\u6839\u770c\n",
        "\u79cb\u7530\u770c\n",
        "\u4f50\u8cc0\u770c\n",
        "\u305d\u306e\u4ed6\n"
       ]
      }
     ],
     "prompt_number": 70
    },
    {
     "cell_type": "code",
     "collapsed": false,
     "input": [
      "array = []\n",
      "\n",
      "soup=BeautifulSoup(html)"
     ],
     "language": "python",
     "metadata": {},
     "outputs": [],
     "prompt_number": 4
    },
    {
     "cell_type": "code",
     "collapsed": false,
     "input": [
      "soup=BeautifulSoup(html)\n"
     ],
     "language": "python",
     "metadata": {},
     "outputs": [],
     "prompt_number": 13
    }
   ],
   "metadata": {}
  }
 ]
}